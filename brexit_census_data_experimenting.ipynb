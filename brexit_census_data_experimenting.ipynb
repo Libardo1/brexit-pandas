{
 "cells": [
  {
   "cell_type": "code",
   "execution_count": 4,
   "metadata": {
    "collapsed": false
   },
   "outputs": [],
   "source": [
    "census_data = {\n",
    "     \"age\" : \"http://webarchive.nationalarchives.gov.uk/20160105160709/http://www.ons.gov.uk/ons/rel/census/2011-census/key-statistics-for-local-authorities-in-england-and-wales/rft-table-ks102ew.xls\",\n",
    "     \"education\" : \"http://webarchive.nationalarchives.gov.uk/20160105160709/http://www.ons.gov.uk/ons/rel/census/2011-census/key-statistics-for-local-authorities-in-england-and-wales/rft-table-ks501ew.xls\",\n",
    "     \"economic\" : \"http://webarchive.nationalarchives.gov.uk/20160105160709/http://www.ons.gov.uk/ons/rel/census/2011-census/key-statistics-for-local-authorities-in-england-and-wales/rft-table-ks601ew.xls\",\n",
    "}"
   ]
  },
  {
   "cell_type": "code",
   "execution_count": 20,
   "metadata": {
    "collapsed": true
   },
   "outputs": [],
   "source": [
    "import pandas as pd"
   ]
  },
  {
   "cell_type": "code",
   "execution_count": 59,
   "metadata": {
    "collapsed": false
   },
   "outputs": [
    {
     "data": {
      "text/html": [
       "<div>\n",
       "<table border=\"1\" class=\"dataframe\">\n",
       "  <thead>\n",
       "    <tr style=\"text-align: right;\">\n",
       "      <th></th>\n",
       "      <th>Area name</th>\n",
       "      <th>Age 0 to 4</th>\n",
       "      <th>Age 5 to 7</th>\n",
       "      <th>Age 8 to 9</th>\n",
       "      <th>Age 10 to 14</th>\n",
       "      <th>Age 15</th>\n",
       "      <th>Age 16 to 17</th>\n",
       "      <th>Age 18 to 19</th>\n",
       "      <th>Age 20 to 24</th>\n",
       "      <th>Age 25 to 29</th>\n",
       "      <th>Age 30 to 44</th>\n",
       "      <th>Age 45 to 59</th>\n",
       "      <th>Age 60 to 64</th>\n",
       "      <th>Age 65 to 74</th>\n",
       "      <th>Age 75 to 84</th>\n",
       "      <th>Age 85 to 89</th>\n",
       "      <th>Age 90 and over</th>\n",
       "      <th>Total</th>\n",
       "    </tr>\n",
       "  </thead>\n",
       "  <tbody>\n",
       "    <tr>\n",
       "      <th>0</th>\n",
       "      <td>ENGLAND AND WALES</td>\n",
       "      <td>3496750.0</td>\n",
       "      <td>1927039.0</td>\n",
       "      <td>1208672.0</td>\n",
       "      <td>3258677.0</td>\n",
       "      <td>687994.0</td>\n",
       "      <td>1391235.0</td>\n",
       "      <td>1460156.0</td>\n",
       "      <td>3807245.0</td>\n",
       "      <td>3836609.0</td>\n",
       "      <td>11515165.0</td>\n",
       "      <td>10886135.0</td>\n",
       "      <td>3377162.0</td>\n",
       "      <td>4852833.0</td>\n",
       "      <td>3115552.0</td>\n",
       "      <td>825671.0</td>\n",
       "      <td>429017.0</td>\n",
       "      <td>56075912.0</td>\n",
       "    </tr>\n",
       "    <tr>\n",
       "      <th>1</th>\n",
       "      <td>NaN</td>\n",
       "      <td>NaN</td>\n",
       "      <td>NaN</td>\n",
       "      <td>NaN</td>\n",
       "      <td>NaN</td>\n",
       "      <td>NaN</td>\n",
       "      <td>NaN</td>\n",
       "      <td>NaN</td>\n",
       "      <td>NaN</td>\n",
       "      <td>NaN</td>\n",
       "      <td>NaN</td>\n",
       "      <td>NaN</td>\n",
       "      <td>NaN</td>\n",
       "      <td>NaN</td>\n",
       "      <td>NaN</td>\n",
       "      <td>NaN</td>\n",
       "      <td>NaN</td>\n",
       "      <td>0.0</td>\n",
       "    </tr>\n",
       "  </tbody>\n",
       "</table>\n",
       "</div>"
      ],
      "text/plain": [
       "           Area name  Age 0 to 4  Age 5 to 7  Age 8 to 9  Age 10 to 14  \\\n",
       "0  ENGLAND AND WALES   3496750.0   1927039.0   1208672.0     3258677.0   \n",
       "1                NaN         NaN         NaN         NaN           NaN   \n",
       "\n",
       "     Age 15  Age 16 to 17  Age 18 to 19  Age 20 to 24  Age 25 to 29  \\\n",
       "0  687994.0     1391235.0     1460156.0     3807245.0     3836609.0   \n",
       "1       NaN           NaN           NaN           NaN           NaN   \n",
       "\n",
       "   Age 30 to 44  Age 45 to 59  Age 60 to 64  Age 65 to 74  Age 75 to 84  \\\n",
       "0    11515165.0    10886135.0     3377162.0     4852833.0     3115552.0   \n",
       "1           NaN           NaN           NaN           NaN           NaN   \n",
       "\n",
       "   Age 85 to 89  Age 90 and over       Total  \n",
       "0      825671.0         429017.0  56075912.0  \n",
       "1           NaN              NaN         0.0  "
      ]
     },
     "execution_count": 59,
     "metadata": {},
     "output_type": "execute_result"
    }
   ],
   "source": [
    "age = pd.read_excel(io=census_data[\"age\"], sheetname=\"KS102EW_Numbers\", header=10, parse_cols=(\"B,F:U\"), skiprows=[11,12,13])\n",
    "age[\"Total\"] = age.sum(axis=1)\n",
    "age.head(2)"
   ]
  },
  {
   "cell_type": "code",
   "execution_count": 61,
   "metadata": {
    "collapsed": false
   },
   "outputs": [
    {
     "name": "stdout",
     "output_type": "stream",
     "text": [
      "56075912.0\n"
     ]
    },
    {
     "data": {
      "text/html": [
       "<div>\n",
       "<table border=\"1\" class=\"dataframe\">\n",
       "  <thead>\n",
       "    <tr style=\"text-align: right;\">\n",
       "      <th></th>\n",
       "      <th>Area name</th>\n",
       "      <th>Total</th>\n",
       "    </tr>\n",
       "  </thead>\n",
       "  <tbody>\n",
       "    <tr>\n",
       "      <th>4</th>\n",
       "      <td>NORTH EAST</td>\n",
       "      <td>2596886.0</td>\n",
       "    </tr>\n",
       "    <tr>\n",
       "      <th>21</th>\n",
       "      <td>NORTH WEST</td>\n",
       "      <td>7052177.0</td>\n",
       "    </tr>\n",
       "    <tr>\n",
       "      <th>71</th>\n",
       "      <td>YORKSHIRE AND THE HUMBER</td>\n",
       "      <td>5283733.0</td>\n",
       "    </tr>\n",
       "    <tr>\n",
       "      <th>101</th>\n",
       "      <td>EAST MIDLANDS</td>\n",
       "      <td>4533222.0</td>\n",
       "    </tr>\n",
       "    <tr>\n",
       "      <th>154</th>\n",
       "      <td>WEST MIDLANDS</td>\n",
       "      <td>5601847.0</td>\n",
       "    </tr>\n",
       "    <tr>\n",
       "      <th>195</th>\n",
       "      <td>EAST</td>\n",
       "      <td>5846965.0</td>\n",
       "    </tr>\n",
       "    <tr>\n",
       "      <th>255</th>\n",
       "      <td>LONDON</td>\n",
       "      <td>8173941.0</td>\n",
       "    </tr>\n",
       "    <tr>\n",
       "      <th>294</th>\n",
       "      <td>SOUTH EAST</td>\n",
       "      <td>8634750.0</td>\n",
       "    </tr>\n",
       "    <tr>\n",
       "      <th>378</th>\n",
       "      <td>SOUTH WEST</td>\n",
       "      <td>5288935.0</td>\n",
       "    </tr>\n",
       "    <tr>\n",
       "      <th>426</th>\n",
       "      <td>WALES</td>\n",
       "      <td>3063456.0</td>\n",
       "    </tr>\n",
       "  </tbody>\n",
       "</table>\n",
       "</div>"
      ],
      "text/plain": [
       "                    Area name      Total\n",
       "4                  NORTH EAST  2596886.0\n",
       "21                NORTH WEST   7052177.0\n",
       "71   YORKSHIRE AND THE HUMBER  5283733.0\n",
       "101             EAST MIDLANDS  4533222.0\n",
       "154             WEST MIDLANDS  5601847.0\n",
       "195                      EAST  5846965.0\n",
       "255                    LONDON  8173941.0\n",
       "294                SOUTH EAST  8634750.0\n",
       "378                SOUTH WEST  5288935.0\n",
       "426                     WALES  3063456.0"
      ]
     },
     "execution_count": 61,
     "metadata": {},
     "output_type": "execute_result"
    }
   ],
   "source": [
    "age2 = age[(age['Area name'].notnull()) & (age['Total'] > 0) ][2:]\n",
    "print(age2[\"Total\"].sum())\n",
    "age2[[\"Area name\", \"Total\"]]\n",
    "\n"
   ]
  },
  {
   "cell_type": "code",
   "execution_count": 51,
   "metadata": {
    "collapsed": true
   },
   "outputs": [],
   "source": [
    "%matplotlib inline"
   ]
  },
  {
   "cell_type": "code",
   "execution_count": 132,
   "metadata": {
    "collapsed": false
   },
   "outputs": [
    {
     "data": {
      "text/html": [
       "<div>\n",
       "<table border=\"1\" class=\"dataframe\">\n",
       "  <thead>\n",
       "    <tr style=\"text-align: right;\">\n",
       "      <th></th>\n",
       "      <th>Area name</th>\n",
       "      <th>Age 20 to 24</th>\n",
       "      <th>Age 25 to 29</th>\n",
       "      <th>Age 30 to 44</th>\n",
       "      <th>Age 45 to 59</th>\n",
       "    </tr>\n",
       "  </thead>\n",
       "  <tbody>\n",
       "    <tr>\n",
       "      <th>4</th>\n",
       "      <td>NORTH EAST</td>\n",
       "      <td>184018.0</td>\n",
       "      <td>164303.0</td>\n",
       "      <td>491533.0</td>\n",
       "      <td>538344.0</td>\n",
       "    </tr>\n",
       "    <tr>\n",
       "      <th>21</th>\n",
       "      <td>NORTH WEST</td>\n",
       "      <td>489640.0</td>\n",
       "      <td>466582.0</td>\n",
       "      <td>1394536.0</td>\n",
       "      <td>1397119.0</td>\n",
       "    </tr>\n",
       "  </tbody>\n",
       "</table>\n",
       "</div>"
      ],
      "text/plain": [
       "      Area name  Age 20 to 24  Age 25 to 29  Age 30 to 44  Age 45 to 59\n",
       "4    NORTH EAST      184018.0      164303.0      491533.0      538344.0\n",
       "21  NORTH WEST       489640.0      466582.0     1394536.0     1397119.0"
      ]
     },
     "execution_count": 132,
     "metadata": {},
     "output_type": "execute_result"
    }
   ],
   "source": [
    "age3 = age2.copy()\n",
    "age3.drop(\"Total\", axis=1, inplace=True)\n",
    "age3 = age3.iloc[:, [0,8,9,10,11]]\n",
    "age3.head(2)"
   ]
  },
  {
   "cell_type": "code",
   "execution_count": 133,
   "metadata": {
    "collapsed": false
   },
   "outputs": [
    {
     "data": {
      "image/png": "[encoded data removed]",
      "text/plain": [
       "<matplotlib.figure.Figure at 0x11d5807b8>"
      ]
     },
     "metadata": {},
     "output_type": "display_data"
    }
   ],
   "source": [
    "import matplotlib.pyplot as plt\n",
    "plt1 = age3.plot(kind=\"bar\", x=\"Area name\")\n",
    "plt1.legend(loc='center left', bbox_to_anchor=(1, 0.5))\n",
    "fig = plt.gcf()\n",
    "fig.set_size_inches(18.5, 10.5)"
   ]
  },
  {
   "cell_type": "code",
   "execution_count": 153,
   "metadata": {
    "collapsed": true
   },
   "outputs": [],
   "source": [
    "economic = pd.read_excel(io=census_data[\"economic\"], sheetname=\"KS601EW_Numbers\", header=10, parse_cols=(\"B,F:S\"), skiprows=[11,12,13])"
   ]
  },
  {
   "cell_type": "code",
   "execution_count": 154,
   "metadata": {
    "collapsed": false
   },
   "outputs": [
    {
     "data": {
      "text/html": [
       "<div>\n",
       "<table border=\"1\" class=\"dataframe\">\n",
       "  <thead>\n",
       "    <tr style=\"text-align: right;\">\n",
       "      <th></th>\n",
       "      <th>Area name</th>\n",
       "      <th>Total</th>\n",
       "    </tr>\n",
       "  </thead>\n",
       "  <tbody>\n",
       "    <tr>\n",
       "      <th>4</th>\n",
       "      <td>NORTH EAST</td>\n",
       "      <td>2033730.0</td>\n",
       "    </tr>\n",
       "    <tr>\n",
       "      <th>21</th>\n",
       "      <td>NORTH WEST</td>\n",
       "      <td>5432991.0</td>\n",
       "    </tr>\n",
       "    <tr>\n",
       "      <th>71</th>\n",
       "      <td>YORKSHIRE AND THE HUMBER</td>\n",
       "      <td>4071584.0</td>\n",
       "    </tr>\n",
       "    <tr>\n",
       "      <th>101</th>\n",
       "      <td>EAST MIDLANDS</td>\n",
       "      <td>3479436.0</td>\n",
       "    </tr>\n",
       "    <tr>\n",
       "      <th>154</th>\n",
       "      <td>WEST MIDLANDS</td>\n",
       "      <td>4286322.0</td>\n",
       "    </tr>\n",
       "    <tr>\n",
       "      <th>195</th>\n",
       "      <td>EAST</td>\n",
       "      <td>4408098.0</td>\n",
       "    </tr>\n",
       "    <tr>\n",
       "      <th>255</th>\n",
       "      <td>LONDON</td>\n",
       "      <td>6431501.0</td>\n",
       "    </tr>\n",
       "    <tr>\n",
       "      <th>294</th>\n",
       "      <td>SOUTH EAST</td>\n",
       "      <td>6489236.0</td>\n",
       "    </tr>\n",
       "    <tr>\n",
       "      <th>378</th>\n",
       "      <td>SOUTH WEST</td>\n",
       "      <td>3980622.0</td>\n",
       "    </tr>\n",
       "    <tr>\n",
       "      <th>426</th>\n",
       "      <td>WALES</td>\n",
       "      <td>2346137.0</td>\n",
       "    </tr>\n",
       "  </tbody>\n",
       "</table>\n",
       "</div>"
      ],
      "text/plain": [
       "                    Area name      Total\n",
       "4                  NORTH EAST  2033730.0\n",
       "21                NORTH WEST   5432991.0\n",
       "71   YORKSHIRE AND THE HUMBER  4071584.0\n",
       "101             EAST MIDLANDS  3479436.0\n",
       "154             WEST MIDLANDS  4286322.0\n",
       "195                      EAST  4408098.0\n",
       "255                    LONDON  6431501.0\n",
       "294                SOUTH EAST  6489236.0\n",
       "378                SOUTH WEST  3980622.0\n",
       "426                     WALES  2346137.0"
      ]
     },
     "execution_count": 154,
     "metadata": {},
     "output_type": "execute_result"
    }
   ],
   "source": [
    "economic[\"Total\"] = economic.sum(axis=1)\n",
    "economic = economic[(economic['Area name'].notnull()) & (economic['Total'] > 0)][2:]\n",
    "economic[[\"Area name\", \"Total\"]]"
   ]
  },
  {
   "cell_type": "code",
   "execution_count": 173,
   "metadata": {
    "collapsed": false
   },
   "outputs": [
    {
     "data": {
      "text/html": [
       "<div>\n",
       "<table border=\"1\" class=\"dataframe\">\n",
       "  <thead>\n",
       "    <tr style=\"text-align: right;\">\n",
       "      <th></th>\n",
       "      <th>Area name</th>\n",
       "      <th>Economically active: Unemployed</th>\n",
       "      <th>Total</th>\n",
       "      <th>perc</th>\n",
       "    </tr>\n",
       "  </thead>\n",
       "  <tbody>\n",
       "    <tr>\n",
       "      <th>4</th>\n",
       "      <td>NORTH EAST</td>\n",
       "      <td>103313.0</td>\n",
       "      <td>2033730.0</td>\n",
       "      <td>5.079976</td>\n",
       "    </tr>\n",
       "    <tr>\n",
       "      <th>21</th>\n",
       "      <td>NORTH WEST</td>\n",
       "      <td>242499.0</td>\n",
       "      <td>5432991.0</td>\n",
       "      <td>4.463453</td>\n",
       "    </tr>\n",
       "    <tr>\n",
       "      <th>71</th>\n",
       "      <td>YORKSHIRE AND THE HUMBER</td>\n",
       "      <td>187755.0</td>\n",
       "      <td>4071584.0</td>\n",
       "      <td>4.611350</td>\n",
       "    </tr>\n",
       "    <tr>\n",
       "      <th>101</th>\n",
       "      <td>EAST MIDLANDS</td>\n",
       "      <td>139295.0</td>\n",
       "      <td>3479436.0</td>\n",
       "      <td>4.003379</td>\n",
       "    </tr>\n",
       "    <tr>\n",
       "      <th>154</th>\n",
       "      <td>WEST MIDLANDS</td>\n",
       "      <td>207415.0</td>\n",
       "      <td>4286322.0</td>\n",
       "      <td>4.838997</td>\n",
       "    </tr>\n",
       "  </tbody>\n",
       "</table>\n",
       "</div>"
      ],
      "text/plain": [
       "                    Area name  Economically active: Unemployed      Total  \\\n",
       "4                  NORTH EAST                         103313.0  2033730.0   \n",
       "21                NORTH WEST                          242499.0  5432991.0   \n",
       "71   YORKSHIRE AND THE HUMBER                         187755.0  4071584.0   \n",
       "101             EAST MIDLANDS                         139295.0  3479436.0   \n",
       "154             WEST MIDLANDS                         207415.0  4286322.0   \n",
       "\n",
       "         perc  \n",
       "4    5.079976  \n",
       "21   4.463453  \n",
       "71   4.611350  \n",
       "101  4.003379  \n",
       "154  4.838997  "
      ]
     },
     "execution_count": 173,
     "metadata": {},
     "output_type": "execute_result"
    }
   ],
   "source": [
    "cols = [col for col in economic.columns if col in (\"Area name\", \"Economically active: Unemployed\", \"Total\")]\n",
    "unemployed = economic.copy()[cols]\n",
    "unemployed[\"perc\"] = unemployed[\"Economically active: Unemployed\"] / unemployed[\"Total\"] * 100\n",
    "unemployed.head()"
   ]
  },
  {
   "cell_type": "code",
   "execution_count": 182,
   "metadata": {
    "collapsed": false
   },
   "outputs": [
    {
     "data": {
      "text/plain": [
       "<matplotlib.legend.Legend at 0x11967dbe0>"
      ]
     },
     "execution_count": 182,
     "metadata": {},
     "output_type": "execute_result"
    },
    {
     "data": {
      "image/png": "[encoded data removed]",
      "text/plain": [
       "<matplotlib.figure.Figure at 0x119678160>"
      ]
     },
     "metadata": {},
     "output_type": "display_data"
    }
   ],
   "source": [
    "plt2 = unemployed[[\"Area name\", \"perc\"]].plot(kind=\"bar\", x=\"Area name\")\n",
    "plt2.legend(loc='center left', bbox_to_anchor=(1, 0.5))"
   ]
  },
  {
   "cell_type": "code",
   "execution_count": 260,
   "metadata": {
    "collapsed": true
   },
   "outputs": [],
   "source": [
    "import numpy as np"
   ]
  },
  {
   "cell_type": "code",
   "execution_count": 261,
   "metadata": {
    "collapsed": false
   },
   "outputs": [
    {
     "data": {
      "text/html": [
       "<div>\n",
       "<table border=\"1\" class=\"dataframe\">\n",
       "  <thead>\n",
       "    <tr style=\"text-align: right;\">\n",
       "      <th></th>\n",
       "      <th>a</th>\n",
       "      <th>b</th>\n",
       "      <th>c</th>\n",
       "      <th>d</th>\n",
       "    </tr>\n",
       "  </thead>\n",
       "  <tbody>\n",
       "    <tr>\n",
       "      <th>0</th>\n",
       "      <td>0.481024</td>\n",
       "      <td>0.408977</td>\n",
       "      <td>0.148831</td>\n",
       "      <td>0.782276</td>\n",
       "    </tr>\n",
       "    <tr>\n",
       "      <th>1</th>\n",
       "      <td>0.731305</td>\n",
       "      <td>0.007039</td>\n",
       "      <td>0.454670</td>\n",
       "      <td>0.994613</td>\n",
       "    </tr>\n",
       "    <tr>\n",
       "      <th>2</th>\n",
       "      <td>0.688023</td>\n",
       "      <td>0.091648</td>\n",
       "      <td>0.415496</td>\n",
       "      <td>0.801549</td>\n",
       "    </tr>\n",
       "    <tr>\n",
       "      <th>3</th>\n",
       "      <td>0.627002</td>\n",
       "      <td>0.382374</td>\n",
       "      <td>0.625295</td>\n",
       "      <td>0.494691</td>\n",
       "    </tr>\n",
       "    <tr>\n",
       "      <th>4</th>\n",
       "      <td>0.800224</td>\n",
       "      <td>0.208399</td>\n",
       "      <td>0.914597</td>\n",
       "      <td>0.708405</td>\n",
       "    </tr>\n",
       "  </tbody>\n",
       "</table>\n",
       "</div>"
      ],
      "text/plain": [
       "          a         b         c         d\n",
       "0  0.481024  0.408977  0.148831  0.782276\n",
       "1  0.731305  0.007039  0.454670  0.994613\n",
       "2  0.688023  0.091648  0.415496  0.801549\n",
       "3  0.627002  0.382374  0.625295  0.494691\n",
       "4  0.800224  0.208399  0.914597  0.708405"
      ]
     },
     "execution_count": 261,
     "metadata": {},
     "output_type": "execute_result"
    }
   ],
   "source": [
    "df = pd.DataFrame(np.random.rand(50, 4), columns=['a', 'b', 'c', 'd'])\n",
    "df.head()"
   ]
  },
  {
   "cell_type": "code",
   "execution_count": 262,
   "metadata": {
    "collapsed": false
   },
   "outputs": [
    {
     "data": {
      "image/png": "[encoded data removed]",
      "text/plain": [
       "<matplotlib.figure.Figure at 0x11fe48e48>"
      ]
     },
     "metadata": {},
     "output_type": "display_data"
    }
   ],
   "source": [
    "df.plot.scatter(x='a', y='b');"
   ]
  },
  {
   "cell_type": "code",
   "execution_count": 263,
   "metadata": {
    "collapsed": false
   },
   "outputs": [],
   "source": [
    "df = pd.read_csv(\"http://www.electoralcommission.org.uk/__data/assets/file/0014/212135/EU-referendum-result-data.csv\", usecols=[\"Area_Code\", \"Remain\", \"Leave\"] )"
   ]
  },
  {
   "cell_type": "code",
   "execution_count": 264,
   "metadata": {
    "collapsed": false
   },
   "outputs": [
    {
     "data": {
      "text/html": [
       "<div>\n",
       "<table border=\"1\" class=\"dataframe\">\n",
       "  <thead>\n",
       "    <tr style=\"text-align: right;\">\n",
       "      <th></th>\n",
       "      <th>Area_Code</th>\n",
       "      <th>Remain</th>\n",
       "      <th>Leave</th>\n",
       "    </tr>\n",
       "  </thead>\n",
       "  <tbody>\n",
       "    <tr>\n",
       "      <th>0</th>\n",
       "      <td>E06000031</td>\n",
       "      <td>34176</td>\n",
       "      <td>53216</td>\n",
       "    </tr>\n",
       "    <tr>\n",
       "      <th>1</th>\n",
       "      <td>E06000032</td>\n",
       "      <td>36708</td>\n",
       "      <td>47773</td>\n",
       "    </tr>\n",
       "  </tbody>\n",
       "</table>\n",
       "</div>"
      ],
      "text/plain": [
       "   Area_Code  Remain  Leave\n",
       "0  E06000031   34176  53216\n",
       "1  E06000032   36708  47773"
      ]
     },
     "execution_count": 264,
     "metadata": {},
     "output_type": "execute_result"
    }
   ],
   "source": [
    "df.columns\n",
    "df.head(2)"
   ]
  },
  {
   "cell_type": "code",
   "execution_count": 316,
   "metadata": {
    "collapsed": false
   },
   "outputs": [
    {
     "data": {
      "text/html": [
       "<div>\n",
       "<table border=\"1\" class=\"dataframe\">\n",
       "  <thead>\n",
       "    <tr style=\"text-align: right;\">\n",
       "      <th></th>\n",
       "      <th>are</th>\n",
       "      <th>highedu</th>\n",
       "    </tr>\n",
       "  </thead>\n",
       "  <tbody>\n",
       "    <tr>\n",
       "      <th>1</th>\n",
       "      <td>K04000001</td>\n",
       "      <td>12383477.0</td>\n",
       "    </tr>\n",
       "    <tr>\n",
       "      <th>3</th>\n",
       "      <td>E92000001</td>\n",
       "      <td>11769361.0</td>\n",
       "    </tr>\n",
       "    <tr>\n",
       "      <th>5</th>\n",
       "      <td>E12000001</td>\n",
       "      <td>473382.0</td>\n",
       "    </tr>\n",
       "    <tr>\n",
       "      <th>7</th>\n",
       "      <td>E06000047</td>\n",
       "      <td>91249.0</td>\n",
       "    </tr>\n",
       "    <tr>\n",
       "      <th>8</th>\n",
       "      <td>E06000005</td>\n",
       "      <td>20244.0</td>\n",
       "    </tr>\n",
       "  </tbody>\n",
       "</table>\n",
       "</div>"
      ],
      "text/plain": [
       "         are     highedu\n",
       "1  K04000001  12383477.0\n",
       "3  E92000001  11769361.0\n",
       "5  E12000001    473382.0\n",
       "7  E06000047     91249.0\n",
       "8  E06000005     20244.0"
      ]
     },
     "execution_count": 316,
     "metadata": {},
     "output_type": "execute_result"
    }
   ],
   "source": [
    "edu = pd.read_excel(io=census_data[\"education\"], sheetname=\"KS501EW_Numbers\", header=10, parse_cols=(\"A,K\"), skiprows=[11,12,13])\n",
    "edu.dropna(how='all', inplace=True)\n",
    "edu.rename(index=str, inplace=True, columns={\"Area code\": \"are\", \"Highest level of qualification: Level 4 qualifications and above\": \"highedu\"})\n",
    "edu.head(5)"
   ]
  },
  {
   "cell_type": "code",
   "execution_count": 319,
   "metadata": {
    "collapsed": false,
    "scrolled": false
   },
   "outputs": [],
   "source": [
    "#ax = df.plot.scatter(x='Remain', y='Leave', color='DarkBlue', label='Group 1');\n",
    "#edu.plot.scatter(x='area', y='highedu', color='DarkGreen', label='Group 2', ax=ax);\n",
    "#ax = edu.plot(kind='box', x='c', y='d')"
   ]
  },
  {
   "cell_type": "code",
   "execution_count": 320,
   "metadata": {
    "collapsed": true
   },
   "outputs": [],
   "source": [
    "inc_data = \"http://webarchive.nationalarchives.gov.uk/20160105160709/http://www.ons.gov.uk/ons/rel/regional-trends/region-and-country-profiles/region-and-country-profiles---key-statistics-and-profiles--october-2013/regional-profiles---key-statistics--october-2013.xls\""
   ]
  },
  {
   "cell_type": "code",
   "execution_count": 334,
   "metadata": {
    "collapsed": false
   },
   "outputs": [
    {
     "data": {
      "text/html": [
       "<div>\n",
       "<table border=\"1\" class=\"dataframe\">\n",
       "  <thead>\n",
       "    <tr style=\"text-align: right;\">\n",
       "      <th></th>\n",
       "      <th>region</th>\n",
       "      <th>income</th>\n",
       "    </tr>\n",
       "  </thead>\n",
       "  <tbody>\n",
       "    <tr>\n",
       "      <th>0</th>\n",
       "      <td>North East</td>\n",
       "      <td>13560.0</td>\n",
       "    </tr>\n",
       "    <tr>\n",
       "      <th>1</th>\n",
       "      <td>North West</td>\n",
       "      <td>14476.0</td>\n",
       "    </tr>\n",
       "    <tr>\n",
       "      <th>2</th>\n",
       "      <td>Yorkshire and The Humber</td>\n",
       "      <td>13819.0</td>\n",
       "    </tr>\n",
       "    <tr>\n",
       "      <th>3</th>\n",
       "      <td>East Midlands</td>\n",
       "      <td>14561.0</td>\n",
       "    </tr>\n",
       "    <tr>\n",
       "      <th>4</th>\n",
       "      <td>West Midlands</td>\n",
       "      <td>14362.0</td>\n",
       "    </tr>\n",
       "    <tr>\n",
       "      <th>5</th>\n",
       "      <td>East</td>\n",
       "      <td>16608.0</td>\n",
       "    </tr>\n",
       "    <tr>\n",
       "      <th>6</th>\n",
       "      <td>London</td>\n",
       "      <td>20509.0</td>\n",
       "    </tr>\n",
       "    <tr>\n",
       "      <th>7</th>\n",
       "      <td>South East</td>\n",
       "      <td>18087.0</td>\n",
       "    </tr>\n",
       "    <tr>\n",
       "      <th>8</th>\n",
       "      <td>South West</td>\n",
       "      <td>16014.0</td>\n",
       "    </tr>\n",
       "  </tbody>\n",
       "</table>\n",
       "</div>"
      ],
      "text/plain": [
       "                     region   income\n",
       "0                North East  13560.0\n",
       "1                North West  14476.0\n",
       "2  Yorkshire and The Humber  13819.0\n",
       "3             East Midlands  14561.0\n",
       "4             West Midlands  14362.0\n",
       "5                      East  16608.0\n",
       "6                    London  20509.0\n",
       "7                South East  18087.0\n",
       "8                South West  16014.0"
      ]
     },
     "execution_count": 334,
     "metadata": {},
     "output_type": "execute_result"
    }
   ],
   "source": [
    "inc = pd.read_excel(io=inc_data, sheetname=\"5\", header=2, parse_cols=(\"C,H\"), skiprows=[3,4,5,6,7,8,9,10])\n",
    "inc.dropna(how='all', inplace=True)\n",
    "inc.rename(index=str, inplace=True, columns={\"Region\": \"region\", \"Gross disposable\\nhousehold income4\\nper head, \\n20112 \\n(£) \": \"income\"})\n",
    "inc"
   ]
  },
  {
   "cell_type": "code",
   "execution_count": 360,
   "metadata": {
    "collapsed": false
   },
   "outputs": [
    {
     "data": {
      "image/png": "[encoded data removed]",
      "text/plain": [
       "<matplotlib.figure.Figure at 0x127727550>"
      ]
     },
     "metadata": {},
     "output_type": "display_data"
    }
   ],
   "source": [
    "#ax = inc.plot(kind=\"bar\", x=\"region\", color='DarkGreen', label='Income')\n",
    "\n",
    "df = pd.read_csv(\"http://www.electoralcommission.org.uk/__data/assets/file/0014/212135/EU-referendum-result-data.csv\", usecols=[\"Region\", \"Remain\", \"Leave\"] )\n",
    "df = df.groupby(\"Region\").sum()\n",
    "df.head()\n",
    "df.plot(kind=\"bar\", color='DarkBlue', label='vote'); # ax=ax"
   ]
  },
  {
   "cell_type": "code",
   "execution_count": 362,
   "metadata": {
    "collapsed": false
   },
   "outputs": [],
   "source": [
    "df = pd.read_csv(\"http://www.electoralcommission.org.uk/__data/assets/file/0014/212135/EU-referendum-result-data.csv\", usecols=[\"Region\", \"Remain\", \"Leave\"] )\n",
    "\n",
    "dfr = df.groupby(\"Region\").sum()"
   ]
  },
  {
   "cell_type": "code",
   "execution_count": 363,
   "metadata": {
    "collapsed": true
   },
   "outputs": [],
   "source": [
    "# ok next time I should probably wrap this in a method\n",
    "dfr[\"Perc_leave\"] = dfr[\"Leave\"] / (dfr[\"Remain\"] + dfr[\"Leave\"]) * 100\n",
    "dfr[\"Perc_remain\"] = dfr[\"Remain\"] / (dfr[\"Remain\"] + dfr[\"Leave\"]) * 100"
   ]
  },
  {
   "cell_type": "code",
   "execution_count": 379,
   "metadata": {
    "collapsed": false
   },
   "outputs": [
    {
     "data": {
      "image/png": "[encoded data removed]",
      "text/plain": [
       "<matplotlib.figure.Figure at 0x126796b38>"
      ]
     },
     "metadata": {},
     "output_type": "display_data"
    }
   ],
   "source": [
    "ax = dfr[[\"Perc_leave\", \"Perc_remain\"]].sort_values(by=\"Perc_leave\", ascending=False).plot(kind=\"bar\")"
   ]
  },
  {
   "cell_type": "code",
   "execution_count": 365,
   "metadata": {
    "collapsed": false
   },
   "outputs": [
    {
     "data": {
      "text/html": [
       "<div>\n",
       "<table border=\"1\" class=\"dataframe\">\n",
       "  <thead>\n",
       "    <tr style=\"text-align: right;\">\n",
       "      <th></th>\n",
       "      <th>region</th>\n",
       "      <th>income</th>\n",
       "    </tr>\n",
       "  </thead>\n",
       "  <tbody>\n",
       "    <tr>\n",
       "      <th>0</th>\n",
       "      <td>North East</td>\n",
       "      <td>13560.0</td>\n",
       "    </tr>\n",
       "    <tr>\n",
       "      <th>1</th>\n",
       "      <td>North West</td>\n",
       "      <td>14476.0</td>\n",
       "    </tr>\n",
       "    <tr>\n",
       "      <th>2</th>\n",
       "      <td>Yorkshire and The Humber</td>\n",
       "      <td>13819.0</td>\n",
       "    </tr>\n",
       "    <tr>\n",
       "      <th>3</th>\n",
       "      <td>East Midlands</td>\n",
       "      <td>14561.0</td>\n",
       "    </tr>\n",
       "    <tr>\n",
       "      <th>4</th>\n",
       "      <td>West Midlands</td>\n",
       "      <td>14362.0</td>\n",
       "    </tr>\n",
       "    <tr>\n",
       "      <th>5</th>\n",
       "      <td>East</td>\n",
       "      <td>16608.0</td>\n",
       "    </tr>\n",
       "    <tr>\n",
       "      <th>6</th>\n",
       "      <td>London</td>\n",
       "      <td>20509.0</td>\n",
       "    </tr>\n",
       "    <tr>\n",
       "      <th>7</th>\n",
       "      <td>South East</td>\n",
       "      <td>18087.0</td>\n",
       "    </tr>\n",
       "    <tr>\n",
       "      <th>8</th>\n",
       "      <td>South West</td>\n",
       "      <td>16014.0</td>\n",
       "    </tr>\n",
       "  </tbody>\n",
       "</table>\n",
       "</div>"
      ],
      "text/plain": [
       "                     region   income\n",
       "0                North East  13560.0\n",
       "1                North West  14476.0\n",
       "2  Yorkshire and The Humber  13819.0\n",
       "3             East Midlands  14561.0\n",
       "4             West Midlands  14362.0\n",
       "5                      East  16608.0\n",
       "6                    London  20509.0\n",
       "7                South East  18087.0\n",
       "8                South West  16014.0"
      ]
     },
     "execution_count": 365,
     "metadata": {},
     "output_type": "execute_result"
    }
   ],
   "source": [
    "inc"
   ]
  },
  {
   "cell_type": "code",
   "execution_count": 381,
   "metadata": {
    "collapsed": false
   },
   "outputs": [
    {
     "data": {
      "text/plain": [
       "<matplotlib.axes._subplots.AxesSubplot at 0x12600bcc0>"
      ]
     },
     "execution_count": 381,
     "metadata": {},
     "output_type": "execute_result"
    },
    {
     "data": {
      "image/png": "[encoded data removed]",
      "text/plain": [
       "<matplotlib.figure.Figure at 0x125f9e550>"
      ]
     },
     "metadata": {},
     "output_type": "display_data"
    }
   ],
   "source": [
    "inc.plot(kind=\"bar\", x=\"region\", color='Yellow', label='Income')"
   ]
  },
  {
   "cell_type": "code",
   "execution_count": null,
   "metadata": {
    "collapsed": true
   },
   "outputs": [],
   "source": []
  }
 ],
 "metadata": {
  "kernelspec": {
   "display_name": "Python 3",
   "language": "python",
   "name": "python3"
  },
  "language_info": {
   "codemirror_mode": {
    "name": "ipython",
    "version": 3
   },
   "file_extension": ".py",
   "mimetype": "text/x-python",
   "name": "python",
   "nbconvert_exporter": "python",
   "pygments_lexer": "ipython3",
   "version": "3.5.1"
  }
 },
 "nbformat": 4,
 "nbformat_minor": 0
}
