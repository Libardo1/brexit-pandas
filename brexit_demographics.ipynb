{
 "cells": [
  {
   "cell_type": "code",
   "execution_count": 141,
   "metadata": {
    "collapsed": true
   },
   "outputs": [],
   "source": [
    "import pandas as pd\n",
    "import numpy as np\n",
    "import matplotlib.pyplot as plt\n",
    "import matplotlib.ticker as ticker\n",
    "%matplotlib inline"
   ]
  },
  {
   "cell_type": "markdown",
   "metadata": {},
   "source": [
    "In this notebook I relate the brexit voting data per area to various demographic data found at [2011 Census, Key Statistics for Local Authorities in England and Wales](http://webarchive.nationalarchives.gov.uk/20160105160709/http://www.ons.gov.uk/ons/publications/re-reference-tables.html?edition=tcm%3A77-286262). I check if there is a relation between the voting and median age, unemployment, higher education and born outside UK."
   ]
  },
  {
   "cell_type": "markdown",
   "metadata": {},
   "source": [
    "Define the census tables we need:"
   ]
  },
  {
   "cell_type": "code",
   "execution_count": 142,
   "metadata": {
    "collapsed": true
   },
   "outputs": [],
   "source": [
    "census_data = {\n",
    "     \"age\" : \"http://webarchive.nationalarchives.gov.uk/20160105160709/http://www.ons.gov.uk/ons/rel/census/2011-census/key-statistics-for-local-authorities-in-england-and-wales/rft-table-ks102ew.xls\",\n",
    "     \"unemployment\" : \"http://webarchive.nationalarchives.gov.uk/20160105160709/http://www.ons.gov.uk/ons/rel/census/2011-census/key-statistics-for-local-authorities-in-england-and-wales/rft-table-ks601ew.xls\",\n",
    "     \"education\" : \"http://webarchive.nationalarchives.gov.uk/20160105160709/http://www.ons.gov.uk/ons/rel/census/2011-census/key-statistics-for-local-authorities-in-england-and-wales/rft-table-ks501ew.xls\",\n",
    "     \"outside_uk\" : \"http://webarchive.nationalarchives.gov.uk/20160105160709/http://www.ons.gov.uk/ons/rel/census/2011-census/key-statistics-for-local-authorities-in-england-and-wales/rft-table-qs203ew.xls\",\n",
    "}"
   ]
  },
  {
   "cell_type": "markdown",
   "metadata": {},
   "source": [
    "Load in the votes data and calculate the diff Remain - Leave (so negative is \"in favor of Leave\")"
   ]
  },
  {
   "cell_type": "code",
   "execution_count": 143,
   "metadata": {
    "collapsed": false
   },
   "outputs": [],
   "source": [
    "votes_org = pd.read_csv(\"http://www.electoralcommission.org.uk/__data/assets/file/0014/212135/EU-referendum-result-data.csv\", usecols=[\"Area_Code\", \"Region\", \"Remain\", \"Leave\"] )\n",
    "votes_org.rename(index=str, inplace=True, columns={\"Area_Code\": \"Area code\", }) # same col name for merge\n",
    "votes_org[\"votes\"] = votes_org[\"Remain\"] - votes_org[\"Leave\"]\n",
    "votes = votes_org[[\"Area code\", \"votes\"]]"
   ]
  },
  {
   "cell_type": "code",
   "execution_count": 144,
   "metadata": {
    "collapsed": false
   },
   "outputs": [
    {
     "data": {
      "text/html": [
       "<div>\n",
       "<table border=\"1\" class=\"dataframe\">\n",
       "  <thead>\n",
       "    <tr style=\"text-align: right;\">\n",
       "      <th></th>\n",
       "      <th>Area code</th>\n",
       "      <th>votes</th>\n",
       "    </tr>\n",
       "  </thead>\n",
       "  <tbody>\n",
       "    <tr>\n",
       "      <th>0</th>\n",
       "      <td>E06000031</td>\n",
       "      <td>-19040</td>\n",
       "    </tr>\n",
       "    <tr>\n",
       "      <th>1</th>\n",
       "      <td>E06000032</td>\n",
       "      <td>-11065</td>\n",
       "    </tr>\n",
       "  </tbody>\n",
       "</table>\n",
       "</div>"
      ],
      "text/plain": [
       "   Area code  votes\n",
       "0  E06000031 -19040\n",
       "1  E06000032 -11065"
      ]
     },
     "execution_count": 144,
     "metadata": {},
     "output_type": "execute_result"
    }
   ],
   "source": [
    "votes.head(2)"
   ]
  },
  {
   "cell_type": "markdown",
   "metadata": {},
   "source": [
    "Load in the census data one by one:"
   ]
  },
  {
   "cell_type": "code",
   "execution_count": 145,
   "metadata": {
    "collapsed": false
   },
   "outputs": [
    {
     "data": {
      "text/html": [
       "<div>\n",
       "<table border=\"1\" class=\"dataframe\">\n",
       "  <thead>\n",
       "    <tr style=\"text-align: right;\">\n",
       "      <th></th>\n",
       "      <th>Area code</th>\n",
       "      <th>median_age</th>\n",
       "    </tr>\n",
       "  </thead>\n",
       "  <tbody>\n",
       "    <tr>\n",
       "      <th>0</th>\n",
       "      <td>K04000001</td>\n",
       "      <td>39.0</td>\n",
       "    </tr>\n",
       "    <tr>\n",
       "      <th>2</th>\n",
       "      <td>E92000001</td>\n",
       "      <td>39.0</td>\n",
       "    </tr>\n",
       "  </tbody>\n",
       "</table>\n",
       "</div>"
      ],
      "text/plain": [
       "   Area code  median_age\n",
       "0  K04000001        39.0\n",
       "2  E92000001        39.0"
      ]
     },
     "execution_count": 145,
     "metadata": {},
     "output_type": "execute_result"
    }
   ],
   "source": [
    "age = pd.read_excel(io=census_data[\"age\"], sheetname=\"KS102EW_Numbers\", header=10, parse_cols=(\"A,W\"), skiprows=[11,12,13])\n",
    "age.dropna(how='all', inplace=True)\n",
    "age.rename(index=str, inplace=True, columns={\"Median age\": \"median_age\", }) \n",
    "age = age[[\"Area code\", \"median_age\"]]\n",
    "age.head(2)"
   ]
  },
  {
   "cell_type": "code",
   "execution_count": 146,
   "metadata": {
    "collapsed": false
   },
   "outputs": [
    {
     "data": {
      "text/html": [
       "<div>\n",
       "<table border=\"1\" class=\"dataframe\">\n",
       "  <thead>\n",
       "    <tr style=\"text-align: right;\">\n",
       "      <th></th>\n",
       "      <th>Area code</th>\n",
       "      <th>perc_unemployed</th>\n",
       "    </tr>\n",
       "  </thead>\n",
       "  <tbody>\n",
       "    <tr>\n",
       "      <th>0</th>\n",
       "      <td>K04000001</td>\n",
       "      <td>0.043756</td>\n",
       "    </tr>\n",
       "    <tr>\n",
       "      <th>2</th>\n",
       "      <td>E92000001</td>\n",
       "      <td>0.043796</td>\n",
       "    </tr>\n",
       "  </tbody>\n",
       "</table>\n",
       "</div>"
      ],
      "text/plain": [
       "   Area code  perc_unemployed\n",
       "0  K04000001         0.043756\n",
       "2  E92000001         0.043796"
      ]
     },
     "execution_count": 146,
     "metadata": {},
     "output_type": "execute_result"
    }
   ],
   "source": [
    "unemployment = pd.read_excel(io=census_data[\"unemployment\"], sheetname=\"KS601EW_Numbers\", header=10, parse_cols=(\"A,E,I\"), skiprows=[11,12,13])\n",
    "unemployment.dropna(how='all', inplace=True)\n",
    "unemployment[\"perc_unemployed\"] = unemployment[unemployment.columns[2]] / unemployment[unemployment.columns[1]]\n",
    "unemployment = unemployment[[\"Area code\", \"perc_unemployed\"]]\n",
    "unemployment.head(2)"
   ]
  },
  {
   "cell_type": "code",
   "execution_count": 147,
   "metadata": {
    "collapsed": false
   },
   "outputs": [
    {
     "data": {
      "text/html": [
       "<div>\n",
       "<table border=\"1\" class=\"dataframe\">\n",
       "  <thead>\n",
       "    <tr style=\"text-align: right;\">\n",
       "      <th></th>\n",
       "      <th>Area code</th>\n",
       "      <th>perc_high_education</th>\n",
       "    </tr>\n",
       "  </thead>\n",
       "  <tbody>\n",
       "    <tr>\n",
       "      <th>1</th>\n",
       "      <td>K04000001</td>\n",
       "      <td>0.395661</td>\n",
       "    </tr>\n",
       "    <tr>\n",
       "      <th>3</th>\n",
       "      <td>E92000001</td>\n",
       "      <td>0.397282</td>\n",
       "    </tr>\n",
       "  </tbody>\n",
       "</table>\n",
       "</div>"
      ],
      "text/plain": [
       "   Area code  perc_high_education\n",
       "1  K04000001             0.395661\n",
       "3  E92000001             0.397282"
      ]
     },
     "execution_count": 147,
     "metadata": {},
     "output_type": "execute_result"
    }
   ],
   "source": [
    "# level 3 and 4+ = cols J and K \n",
    "education = pd.read_excel(io=census_data[\"education\"], sheetname=\"KS501EW_Numbers\", header=10, parse_cols=(\"A,E,J,K\"), skiprows=[11,12,13])\n",
    "education.dropna(how='all', inplace=True)\n",
    "education[\"perc_high_education\"] = (education[education.columns[2]] + education[education.columns[3]]) / education[education.columns[1]]\n",
    "education = education[[\"Area code\", \"perc_high_education\"]]\n",
    "education.head(2)"
   ]
  },
  {
   "cell_type": "code",
   "execution_count": 148,
   "metadata": {
    "collapsed": false
   },
   "outputs": [
    {
     "data": {
      "text/html": [
       "<div>\n",
       "<table border=\"1\" class=\"dataframe\">\n",
       "  <thead>\n",
       "    <tr style=\"text-align: right;\">\n",
       "      <th></th>\n",
       "      <th>Area code</th>\n",
       "      <th>perc_born_outside_uk</th>\n",
       "    </tr>\n",
       "  </thead>\n",
       "  <tbody>\n",
       "    <tr>\n",
       "      <th>0</th>\n",
       "      <td>K04000001</td>\n",
       "      <td>0.133837</td>\n",
       "    </tr>\n",
       "    <tr>\n",
       "      <th>2</th>\n",
       "      <td>E92000001</td>\n",
       "      <td>0.138404</td>\n",
       "    </tr>\n",
       "  </tbody>\n",
       "</table>\n",
       "</div>"
      ],
      "text/plain": [
       "   Area code  perc_born_outside_uk\n",
       "0  K04000001              0.133837\n",
       "2  E92000001              0.138404"
      ]
     },
     "execution_count": 148,
     "metadata": {},
     "output_type": "execute_result"
    }
   ],
   "source": [
    "outside_uk = pd.read_excel(io=census_data[\"outside_uk\"], sheetname=\"QS203EW_Numbers\", header=10, parse_cols=(\"A,E,G\"), skiprows=[11,12,13])\n",
    "outside_uk.dropna(how='all', inplace=True)\n",
    "outside_uk.columns[2]\n",
    "# all birth (col E) - UK birth (col G) = outside birth\n",
    "outside_uk[\"perc_born_outside_uk\"] = (outside_uk[outside_uk.columns[1]] - outside_uk[outside_uk.columns[2]]) / outside_uk[outside_uk.columns[1]]\n",
    "outside_uk = outside_uk[[\"Area code\", \"perc_born_outside_uk\"]]\n",
    "outside_uk.head(2)"
   ]
  },
  {
   "cell_type": "markdown",
   "metadata": {},
   "source": [
    "Merge all datasets to one dataframe, on key = Area code"
   ]
  },
  {
   "cell_type": "code",
   "execution_count": 149,
   "metadata": {
    "collapsed": false
   },
   "outputs": [
    {
     "data": {
      "text/html": [
       "<div>\n",
       "<table border=\"1\" class=\"dataframe\">\n",
       "  <thead>\n",
       "    <tr style=\"text-align: right;\">\n",
       "      <th></th>\n",
       "      <th>Area code</th>\n",
       "      <th>votes</th>\n",
       "      <th>median_age</th>\n",
       "      <th>perc_unemployed</th>\n",
       "      <th>perc_high_education</th>\n",
       "      <th>perc_born_outside_uk</th>\n",
       "    </tr>\n",
       "  </thead>\n",
       "  <tbody>\n",
       "    <tr>\n",
       "      <th>0</th>\n",
       "      <td>E06000031</td>\n",
       "      <td>-19040</td>\n",
       "      <td>35.0</td>\n",
       "      <td>0.050568</td>\n",
       "      <td>0.310281</td>\n",
       "      <td>0.206349</td>\n",
       "    </tr>\n",
       "    <tr>\n",
       "      <th>1</th>\n",
       "      <td>E06000032</td>\n",
       "      <td>-11065</td>\n",
       "      <td>32.0</td>\n",
       "      <td>0.057414</td>\n",
       "      <td>0.333318</td>\n",
       "      <td>0.309408</td>\n",
       "    </tr>\n",
       "    <tr>\n",
       "      <th>2</th>\n",
       "      <td>E06000033</td>\n",
       "      <td>-15174</td>\n",
       "      <td>40.0</td>\n",
       "      <td>0.049669</td>\n",
       "      <td>0.332425</td>\n",
       "      <td>0.098596</td>\n",
       "    </tr>\n",
       "    <tr>\n",
       "      <th>3</th>\n",
       "      <td>E06000034</td>\n",
       "      <td>-35614</td>\n",
       "      <td>36.0</td>\n",
       "      <td>0.054239</td>\n",
       "      <td>0.283631</td>\n",
       "      <td>0.119692</td>\n",
       "    </tr>\n",
       "    <tr>\n",
       "      <th>4</th>\n",
       "      <td>E06000055</td>\n",
       "      <td>-3072</td>\n",
       "      <td>39.0</td>\n",
       "      <td>0.044478</td>\n",
       "      <td>0.399608</td>\n",
       "      <td>0.176049</td>\n",
       "    </tr>\n",
       "  </tbody>\n",
       "</table>\n",
       "</div>"
      ],
      "text/plain": [
       "   Area code  votes  median_age  perc_unemployed  perc_high_education  \\\n",
       "0  E06000031 -19040        35.0         0.050568             0.310281   \n",
       "1  E06000032 -11065        32.0         0.057414             0.333318   \n",
       "2  E06000033 -15174        40.0         0.049669             0.332425   \n",
       "3  E06000034 -35614        36.0         0.054239             0.283631   \n",
       "4  E06000055  -3072        39.0         0.044478             0.399608   \n",
       "\n",
       "   perc_born_outside_uk  \n",
       "0              0.206349  \n",
       "1              0.309408  \n",
       "2              0.098596  \n",
       "3              0.119692  \n",
       "4              0.176049  "
      ]
     },
     "execution_count": 149,
     "metadata": {},
     "output_type": "execute_result"
    }
   ],
   "source": [
    "data = votes.merge(age, on='Area code').merge(unemployment, on='Area code').merge(education, on='Area code').merge(outside_uk, on='Area code')\n",
    "data.head(5)"
   ]
  },
  {
   "cell_type": "markdown",
   "metadata": {},
   "source": [
    "Important note, not all area codes of the votes csv data were in the census data, but I was able to match 89,5%, not too bad:"
   ]
  },
  {
   "cell_type": "code",
   "execution_count": 150,
   "metadata": {
    "collapsed": false
   },
   "outputs": [
    {
     "data": {
      "text/plain": [
       "89.52879581151832"
      ]
     },
     "execution_count": 150,
     "metadata": {},
     "output_type": "execute_result"
    }
   ],
   "source": [
    "100 - ((len(votes) - len(data)) / len(votes)*100)\n"
   ]
  },
  {
   "cell_type": "markdown",
   "metadata": {},
   "source": [
    "Use scatter plots to show the relations. Defining a function to avoid too much repetition of code:"
   ]
  },
  {
   "cell_type": "code",
   "execution_count": 151,
   "metadata": {
    "collapsed": false
   },
   "outputs": [],
   "source": [
    "def showplot(data, factor):\n",
    "    fig = plt.figure(figsize=(6, 6))\n",
    "    ax = fig.add_subplot(1,1,1) \n",
    "    ax.scatter(data[\"votes\"], data[factor], s=20, c='r', marker=\"o\", label=factor)\n",
    "    plt.legend(loc='upper left');\n",
    "    plt.xlabel(\"votes (< 0 = leave / > 0 = remain)\")\n",
    "    plt.ylabel(factor)\n",
    "    plt.axvline(x=0)\n",
    "    plt.axhline(y=data[factor].mean()) # draw a horizontal line in the mean of the dataset\n",
    "    plt.show()\n",
    "    #fig.savefig(factor+\".png\")"
   ]
  },
  {
   "cell_type": "markdown",
   "metadata": {},
   "source": [
    "### 1. Age"
   ]
  },
  {
   "cell_type": "code",
   "execution_count": 152,
   "metadata": {
    "collapsed": false
   },
   "outputs": [
    {
     "data": {
      "image/png": "[encoded data removed]",
      "text/plain": [
       "<matplotlib.figure.Figure at 0x1150fed68>"
      ]
     },
     "metadata": {},
     "output_type": "display_data"
    }
   ],
   "source": [
    "showplot(data, \"median_age\")"
   ]
  },
  {
   "cell_type": "markdown",
   "metadata": {},
   "source": [
    "It seems more older people want to leave the EU"
   ]
  },
  {
   "cell_type": "markdown",
   "metadata": {},
   "source": [
    "### 2. Unemployment"
   ]
  },
  {
   "cell_type": "code",
   "execution_count": 153,
   "metadata": {
    "collapsed": false
   },
   "outputs": [
    {
     "data": {
      "image/png": "[encoded data removed]",
      "text/plain": [
       "<matplotlib.figure.Figure at 0x118249d30>"
      ]
     },
     "metadata": {},
     "output_type": "display_data"
    }
   ],
   "source": [
    "showplot(data, \"perc_unemployed\")"
   ]
  },
  {
   "cell_type": "markdown",
   "metadata": {},
   "source": [
    "The higher the unemployment rate, the higher the desire to leave."
   ]
  },
  {
   "cell_type": "markdown",
   "metadata": {},
   "source": [
    "### 3. Higher education"
   ]
  },
  {
   "cell_type": "code",
   "execution_count": 154,
   "metadata": {
    "collapsed": false
   },
   "outputs": [
    {
     "data": {
      "image/png": "[encoded data removed]",
      "text/plain": [
       "<matplotlib.figure.Figure at 0x115428668>"
      ]
     },
     "metadata": {},
     "output_type": "display_data"
    }
   ],
   "source": [
    "showplot(data, \"perc_high_education\")"
   ]
  },
  {
   "cell_type": "markdown",
   "metadata": {},
   "source": [
    "Areas with a higher percentage of education tend to be in favor of remain."
   ]
  },
  {
   "cell_type": "markdown",
   "metadata": {},
   "source": [
    "### 4. Born outside UK"
   ]
  },
  {
   "cell_type": "code",
   "execution_count": 155,
   "metadata": {
    "collapsed": false
   },
   "outputs": [
    {
     "data": {
      "image/png": "[encoded data removed]",
      "text/plain": [
       "<matplotlib.figure.Figure at 0x103425668>"
      ]
     },
     "metadata": {},
     "output_type": "display_data"
    }
   ],
   "source": [
    "showplot(data, \"perc_born_outside_uk\")"
   ]
  },
  {
   "cell_type": "markdown",
   "metadata": {},
   "source": [
    "Here we see that the greater % of an area born outside UK is more in favor of remain"
   ]
  },
  {
   "cell_type": "markdown",
   "metadata": {},
   "source": [
    "## 5. Income"
   ]
  },
  {
   "cell_type": "markdown",
   "metadata": {},
   "source": [
    "Last but not least I wanted to find out how the income level influenced the voting. I found [this source](https://www.gov.uk/government/statistics/income-and-tax-by-county-and-region-2010-to-2011) but it is per region (not area) so I had to group the voting data by region as well:"
   ]
  },
  {
   "cell_type": "code",
   "execution_count": 175,
   "metadata": {
    "collapsed": false
   },
   "outputs": [
    {
     "data": {
      "text/html": [
       "<div>\n",
       "<table border=\"1\" class=\"dataframe\">\n",
       "  <thead>\n",
       "    <tr style=\"text-align: right;\">\n",
       "      <th></th>\n",
       "      <th>Remain</th>\n",
       "      <th>Leave</th>\n",
       "      <th>votes</th>\n",
       "    </tr>\n",
       "    <tr>\n",
       "      <th>Region</th>\n",
       "      <th></th>\n",
       "      <th></th>\n",
       "      <th></th>\n",
       "    </tr>\n",
       "  </thead>\n",
       "  <tbody>\n",
       "    <tr>\n",
       "      <th>East</th>\n",
       "      <td>1448616</td>\n",
       "      <td>1880367</td>\n",
       "      <td>-431751</td>\n",
       "    </tr>\n",
       "    <tr>\n",
       "      <th>East Midlands</th>\n",
       "      <td>1033036</td>\n",
       "      <td>1475479</td>\n",
       "      <td>-442443</td>\n",
       "    </tr>\n",
       "  </tbody>\n",
       "</table>\n",
       "</div>"
      ],
      "text/plain": [
       "                Remain    Leave   votes\n",
       "Region                                 \n",
       "East           1448616  1880367 -431751\n",
       "East Midlands  1033036  1475479 -442443"
      ]
     },
     "execution_count": 175,
     "metadata": {},
     "output_type": "execute_result"
    }
   ],
   "source": [
    "votes_region = votes_org.groupby(\"Region\").sum()\n",
    "votes_region.head(2)"
   ]
  },
  {
   "cell_type": "code",
   "execution_count": 176,
   "metadata": {
    "collapsed": false
   },
   "outputs": [
    {
     "data": {
      "text/plain": [
       "12"
      ]
     },
     "execution_count": 176,
     "metadata": {},
     "output_type": "execute_result"
    }
   ],
   "source": [
    "len(votes_region)"
   ]
  },
  {
   "cell_type": "code",
   "execution_count": 177,
   "metadata": {
    "collapsed": false
   },
   "outputs": [
    {
     "data": {
      "text/html": [
       "<div>\n",
       "<table border=\"1\" class=\"dataframe\">\n",
       "  <thead>\n",
       "    <tr style=\"text-align: right;\">\n",
       "      <th></th>\n",
       "      <th>median_income</th>\n",
       "    </tr>\n",
       "    <tr>\n",
       "      <th>Region</th>\n",
       "      <th></th>\n",
       "    </tr>\n",
       "  </thead>\n",
       "  <tbody>\n",
       "    <tr>\n",
       "      <th>England</th>\n",
       "      <td>22100.0</td>\n",
       "    </tr>\n",
       "    <tr>\n",
       "      <th>North East</th>\n",
       "      <td>20400.0</td>\n",
       "    </tr>\n",
       "    <tr>\n",
       "      <th>Tyne &amp; Wear</th>\n",
       "      <td>20400.0</td>\n",
       "    </tr>\n",
       "    <tr>\n",
       "      <th>Unitary Authorities</th>\n",
       "      <td>20400.0</td>\n",
       "    </tr>\n",
       "    <tr>\n",
       "      <th>North West</th>\n",
       "      <td>20600.0</td>\n",
       "    </tr>\n",
       "  </tbody>\n",
       "</table>\n",
       "</div>"
      ],
      "text/plain": [
       "                                        median_income\n",
       "Region                                               \n",
       "England                                       22100.0\n",
       "North East                                    20400.0\n",
       "Tyne & Wear                                   20400.0\n",
       "Unitary Authorities                           20400.0\n",
       "North West                                    20600.0"
      ]
     },
     "execution_count": 177,
     "metadata": {},
     "output_type": "execute_result"
    }
   ],
   "source": [
    "# get the median income per area / region (they are in the same column but merge later will fix that)\n",
    "income_url = \"https://www.gov.uk/government/uploads/system/uploads/attachment_data/file/510864/Table_3_13_14.xlsx\"\n",
    "income = pd.read_excel(io=income_url, sheetname=\"Table_3_13_14\", header=10, parse_cols=(\"A,U\"), skiprows=[11,12,13], )\n",
    "income.dropna(how='all', inplace=True)\n",
    "income.rename(index=str, columns={income.columns[0]: \"Region\", income.columns[1]: \"median_income\"}, inplace=True)\n",
    "income.set_index(\"Region\", inplace=True)\n",
    "income.head(5)"
   ]
  },
  {
   "cell_type": "code",
   "execution_count": 178,
   "metadata": {
    "collapsed": false
   },
   "outputs": [
    {
     "data": {
      "text/plain": [
       "Index(['East', 'East Midlands', 'London', 'North East', 'North West',\n",
       "       'Northern Ireland', 'Scotland', 'South East', 'South West', 'Wales',\n",
       "       'West Midlands', 'Yorkshire and The Humber'],\n",
       "      dtype='object', name='Region')"
      ]
     },
     "execution_count": 178,
     "metadata": {},
     "output_type": "execute_result"
    }
   ],
   "source": [
    "votes_region.index"
   ]
  },
  {
   "cell_type": "code",
   "execution_count": 179,
   "metadata": {
    "collapsed": false
   },
   "outputs": [],
   "source": [
    "# income data has whitespace so merge did not match, clean the whitespaces\n",
    "income.index = income.index.str.strip()"
   ]
  },
  {
   "cell_type": "code",
   "execution_count": 180,
   "metadata": {
    "collapsed": false
   },
   "outputs": [
    {
     "data": {
      "text/plain": [
       "['East', 'Yorkshire and The Humber']"
      ]
     },
     "execution_count": 180,
     "metadata": {},
     "output_type": "execute_result"
    }
   ],
   "source": [
    "# we miss 2 regions, accepting that for now (want to get a 'rough' indication)\n",
    "[i for i in votes_region.index if i not in income.index]"
   ]
  },
  {
   "cell_type": "code",
   "execution_count": 181,
   "metadata": {
    "collapsed": false
   },
   "outputs": [
    {
     "data": {
      "text/html": [
       "<div>\n",
       "<table border=\"1\" class=\"dataframe\">\n",
       "  <thead>\n",
       "    <tr style=\"text-align: right;\">\n",
       "      <th></th>\n",
       "      <th>Remain</th>\n",
       "      <th>Leave</th>\n",
       "      <th>votes</th>\n",
       "      <th>median_income</th>\n",
       "    </tr>\n",
       "    <tr>\n",
       "      <th>Region</th>\n",
       "      <th></th>\n",
       "      <th></th>\n",
       "      <th></th>\n",
       "      <th></th>\n",
       "    </tr>\n",
       "  </thead>\n",
       "  <tbody>\n",
       "    <tr>\n",
       "      <th>East Midlands</th>\n",
       "      <td>1033036</td>\n",
       "      <td>1475479</td>\n",
       "      <td>-442443</td>\n",
       "      <td>20800.0</td>\n",
       "    </tr>\n",
       "    <tr>\n",
       "      <th>London</th>\n",
       "      <td>2263519</td>\n",
       "      <td>1513232</td>\n",
       "      <td>750287</td>\n",
       "      <td>25600.0</td>\n",
       "    </tr>\n",
       "    <tr>\n",
       "      <th>North East</th>\n",
       "      <td>562595</td>\n",
       "      <td>778103</td>\n",
       "      <td>-215508</td>\n",
       "      <td>20400.0</td>\n",
       "    </tr>\n",
       "    <tr>\n",
       "      <th>North West</th>\n",
       "      <td>1699020</td>\n",
       "      <td>1966925</td>\n",
       "      <td>-267905</td>\n",
       "      <td>20600.0</td>\n",
       "    </tr>\n",
       "    <tr>\n",
       "      <th>Northern Ireland</th>\n",
       "      <td>440707</td>\n",
       "      <td>349442</td>\n",
       "      <td>91265</td>\n",
       "      <td>20100.0</td>\n",
       "    </tr>\n",
       "    <tr>\n",
       "      <th>Scotland</th>\n",
       "      <td>1661191</td>\n",
       "      <td>1018322</td>\n",
       "      <td>642869</td>\n",
       "      <td>21800.0</td>\n",
       "    </tr>\n",
       "    <tr>\n",
       "      <th>South East</th>\n",
       "      <td>2391718</td>\n",
       "      <td>2567965</td>\n",
       "      <td>-176247</td>\n",
       "      <td>23900.0</td>\n",
       "    </tr>\n",
       "    <tr>\n",
       "      <th>South West</th>\n",
       "      <td>1503019</td>\n",
       "      <td>1669711</td>\n",
       "      <td>-166692</td>\n",
       "      <td>21200.0</td>\n",
       "    </tr>\n",
       "    <tr>\n",
       "      <th>Wales</th>\n",
       "      <td>772347</td>\n",
       "      <td>854572</td>\n",
       "      <td>-82225</td>\n",
       "      <td>20300.0</td>\n",
       "    </tr>\n",
       "    <tr>\n",
       "      <th>West Midlands</th>\n",
       "      <td>1207175</td>\n",
       "      <td>1755687</td>\n",
       "      <td>-548512</td>\n",
       "      <td>20500.0</td>\n",
       "    </tr>\n",
       "  </tbody>\n",
       "</table>\n",
       "</div>"
      ],
      "text/plain": [
       "                   Remain    Leave   votes  median_income\n",
       "Region                                                   \n",
       "East Midlands     1033036  1475479 -442443        20800.0\n",
       "London            2263519  1513232  750287        25600.0\n",
       "North East         562595   778103 -215508        20400.0\n",
       "North West        1699020  1966925 -267905        20600.0\n",
       "Northern Ireland   440707   349442   91265        20100.0\n",
       "Scotland          1661191  1018322  642869        21800.0\n",
       "South East        2391718  2567965 -176247        23900.0\n",
       "South West        1503019  1669711 -166692        21200.0\n",
       "Wales              772347   854572  -82225        20300.0\n",
       "West Midlands     1207175  1755687 -548512        20500.0"
      ]
     },
     "execution_count": 181,
     "metadata": {},
     "output_type": "execute_result"
    }
   ],
   "source": [
    "# merge the votes and income data sets on their region indexes\n",
    "votes_and_income = votes_region.merge(income, left_index=True, right_index=True, how='left')\n",
    "votes_and_income.drop_duplicates(subset=\"Remain\", keep=\"first\", inplace=True)\n",
    "votes_and_income = votes_and_income[votes_and_income[\"median_income\"] > 0] # clean 2 NANs\n",
    "votes_and_income"
   ]
  },
  {
   "cell_type": "code",
   "execution_count": 189,
   "metadata": {
    "collapsed": false
   },
   "outputs": [
    {
     "data": {
      "image/png": "[encoded data removed]",
      "text/plain": [
       "<matplotlib.figure.Figure at 0x1156d3cf8>"
      ]
     },
     "metadata": {},
     "output_type": "display_data"
    }
   ],
   "source": [
    "# cannot reuse earlier showplot method, so tweak the code here\n",
    "# had to add FuncFormatter as well because the x axis has much greater vote values, because we measure \n",
    "# regions (=bigger) instead of areas (=smaller) here\n",
    "factor = \"median_income\"\n",
    "fig = plt.figure(figsize=(10, 10))\n",
    "ax = fig.add_subplot(1,1,1) \n",
    "ax.scatter(votes_and_income[\"votes\"], votes_and_income[factor], s=100, c='r', marker=\"o\", label=factor)\n",
    "ax.xaxis.set_major_formatter(ticker.FuncFormatter(lambda y, pos: ('%2d')%(y*1e-3)))\n",
    "# show region name for each dot\n",
    "for i, txt in enumerate(votes_and_income.index):\n",
    "    ax.annotate(txt, (votes_and_income[\"votes\"][i], votes_and_income[factor][i]), \n",
    "               horizontalalignment='right', verticalalignment='top',\n",
    "               bbox=dict(facecolor='none', edgecolor='black', boxstyle='round,pad=0.2'))\n",
    "plt.legend(loc='upper left');\n",
    "plt.xlabel(\"votes in 1000s (< 0 = leave / > 0 = remain)\")\n",
    "plt.ylabel(factor)\n",
    "plt.axvline(x=0)\n",
    "\n",
    "plt.axhline(y=votes_and_income[factor].mean()) # draw a horizontal line in the mean of the dataset\n",
    "plt.show()\n",
    "#fig.savefig(factor+\".png\")"
   ]
  },
  {
   "cell_type": "markdown",
   "metadata": {},
   "source": [
    "Conclusion: we clearly see that regions with a relatively smaller median income are more in favor of leaving the EU, although it is not 100% consistent: Scotland has a lower median income but voted Remain, South East has a higher median income but wants to leave. Interesting though how general trends become visible by merging different data sets."
   ]
  }
 ],
 "metadata": {
  "kernelspec": {
   "display_name": "Python 3",
   "language": "python",
   "name": "python3"
  },
  "language_info": {
   "codemirror_mode": {
    "name": "ipython",
    "version": 3
   },
   "file_extension": ".py",
   "mimetype": "text/x-python",
   "name": "python",
   "nbconvert_exporter": "python",
   "pygments_lexer": "ipython3",
   "version": "3.5.1"
  }
 },
 "nbformat": 4,
 "nbformat_minor": 0
}
