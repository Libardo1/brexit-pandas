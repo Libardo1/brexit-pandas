{
 "cells": [
  {
   "cell_type": "code",
   "execution_count": 2,
   "metadata": {
    "collapsed": true
   },
   "outputs": [],
   "source": [
    "import pandas as pd\n",
    "import numpy as np\n",
    "import matplotlib.pyplot as plt\n",
    "\n",
    "%matplotlib inline"
   ]
  },
  {
   "cell_type": "code",
   "execution_count": 53,
   "metadata": {
    "collapsed": true
   },
   "outputs": [],
   "source": [
    "census_data = {\n",
    "     \"age\" : \"http://webarchive.nationalarchives.gov.uk/20160105160709/http://www.ons.gov.uk/ons/rel/census/2011-census/key-statistics-for-local-authorities-in-england-and-wales/rft-table-ks102ew.xls\",\n",
    "     \"education\" : \"http://webarchive.nationalarchives.gov.uk/20160105160709/http://www.ons.gov.uk/ons/rel/census/2011-census/key-statistics-for-local-authorities-in-england-and-wales/rft-table-ks501ew.xls\",\n",
    "     \"economic\" : \"http://webarchive.nationalarchives.gov.uk/20160105160709/http://www.ons.gov.uk/ons/rel/census/2011-census/key-statistics-for-local-authorities-in-england-and-wales/rft-table-ks601ew.xls\",\n",
    "}"
   ]
  },
  {
   "cell_type": "code",
   "execution_count": 54,
   "metadata": {
    "collapsed": false
   },
   "outputs": [],
   "source": [
    "df = pd.read_csv(\"http://www.electoralcommission.org.uk/__data/assets/file/0014/212135/EU-referendum-result-data.csv\", usecols=[\"Area_Code\", \"Remain\", \"Leave\"] )"
   ]
  },
  {
   "cell_type": "code",
   "execution_count": 55,
   "metadata": {
    "collapsed": false
   },
   "outputs": [
    {
     "data": {
      "text/plain": [
       "382"
      ]
     },
     "execution_count": 55,
     "metadata": {},
     "output_type": "execute_result"
    }
   ],
   "source": [
    "df.columns\n",
    "len(df)"
   ]
  },
  {
   "cell_type": "code",
   "execution_count": 56,
   "metadata": {
    "collapsed": false
   },
   "outputs": [
    {
     "data": {
      "text/html": [
       "<div>\n",
       "<table border=\"1\" class=\"dataframe\">\n",
       "  <thead>\n",
       "    <tr style=\"text-align: right;\">\n",
       "      <th></th>\n",
       "      <th>Area_Code</th>\n",
       "      <th>Remain</th>\n",
       "      <th>Leave</th>\n",
       "    </tr>\n",
       "  </thead>\n",
       "  <tbody>\n",
       "    <tr>\n",
       "      <th>0</th>\n",
       "      <td>E06000031</td>\n",
       "      <td>34176</td>\n",
       "      <td>53216</td>\n",
       "    </tr>\n",
       "    <tr>\n",
       "      <th>1</th>\n",
       "      <td>E06000032</td>\n",
       "      <td>36708</td>\n",
       "      <td>47773</td>\n",
       "    </tr>\n",
       "  </tbody>\n",
       "</table>\n",
       "</div>"
      ],
      "text/plain": [
       "   Area_Code  Remain  Leave\n",
       "0  E06000031   34176  53216\n",
       "1  E06000032   36708  47773"
      ]
     },
     "execution_count": 56,
     "metadata": {},
     "output_type": "execute_result"
    }
   ],
   "source": [
    "df.head(2)"
   ]
  },
  {
   "cell_type": "code",
   "execution_count": 57,
   "metadata": {
    "collapsed": false
   },
   "outputs": [
    {
     "data": {
      "text/plain": [
       "True"
      ]
     },
     "execution_count": 57,
     "metadata": {},
     "output_type": "execute_result"
    }
   ],
   "source": [
    "any(df.Area_Code == \"E06000032\")"
   ]
  },
  {
   "cell_type": "code",
   "execution_count": 58,
   "metadata": {
    "collapsed": false
   },
   "outputs": [
    {
     "data": {
      "text/plain": [
       "396"
      ]
     },
     "execution_count": 58,
     "metadata": {},
     "output_type": "execute_result"
    }
   ],
   "source": [
    "edu = pd.read_excel(io=census_data[\"education\"], sheetname=\"KS501EW_Numbers\", header=10, parse_cols=(\"A,G,K\"), skiprows=[11,12,13])\n",
    "edu.dropna(how='all', inplace=True)\n",
    "edu.rename(index=str, inplace=True, columns={\n",
    "        \"Area code\": \"Area_Code\", \n",
    "        \"Highest level of qualification: Level 4 qualifications and above\": \"High_edu\",\n",
    "        \"Highest level of qualification: Level 1 qualifications\": \"Low_edu\",\n",
    "    })\n",
    "len(edu)"
   ]
  },
  {
   "cell_type": "code",
   "execution_count": 59,
   "metadata": {
    "collapsed": false
   },
   "outputs": [
    {
     "data": {
      "text/html": [
       "<div>\n",
       "<table border=\"1\" class=\"dataframe\">\n",
       "  <thead>\n",
       "    <tr style=\"text-align: right;\">\n",
       "      <th></th>\n",
       "      <th>Area_Code</th>\n",
       "      <th>Low_edu</th>\n",
       "      <th>High_edu</th>\n",
       "    </tr>\n",
       "  </thead>\n",
       "  <tbody>\n",
       "    <tr>\n",
       "      <th>1</th>\n",
       "      <td>K04000001</td>\n",
       "      <td>6047384.0</td>\n",
       "      <td>12383477.0</td>\n",
       "    </tr>\n",
       "    <tr>\n",
       "      <th>3</th>\n",
       "      <td>E92000001</td>\n",
       "      <td>5714441.0</td>\n",
       "      <td>11769361.0</td>\n",
       "    </tr>\n",
       "  </tbody>\n",
       "</table>\n",
       "</div>"
      ],
      "text/plain": [
       "   Area_Code    Low_edu    High_edu\n",
       "1  K04000001  6047384.0  12383477.0\n",
       "3  E92000001  5714441.0  11769361.0"
      ]
     },
     "execution_count": 59,
     "metadata": {},
     "output_type": "execute_result"
    }
   ],
   "source": [
    "edu.head(2)"
   ]
  },
  {
   "cell_type": "code",
   "execution_count": 60,
   "metadata": {
    "collapsed": false
   },
   "outputs": [],
   "source": [
    "res = pd.merge(df, edu, on='Area_Code')"
   ]
  },
  {
   "cell_type": "code",
   "execution_count": 61,
   "metadata": {
    "collapsed": false
   },
   "outputs": [
    {
     "data": {
      "text/plain": [
       "342"
      ]
     },
     "execution_count": 61,
     "metadata": {},
     "output_type": "execute_result"
    }
   ],
   "source": [
    "len(res)"
   ]
  },
  {
   "cell_type": "code",
   "execution_count": 62,
   "metadata": {
    "collapsed": false
   },
   "outputs": [
    {
     "data": {
      "text/html": [
       "<div>\n",
       "<table border=\"1\" class=\"dataframe\">\n",
       "  <thead>\n",
       "    <tr style=\"text-align: right;\">\n",
       "      <th></th>\n",
       "      <th>Area_Code</th>\n",
       "      <th>Remain</th>\n",
       "      <th>Leave</th>\n",
       "      <th>Low_edu</th>\n",
       "      <th>High_edu</th>\n",
       "    </tr>\n",
       "  </thead>\n",
       "  <tbody>\n",
       "    <tr>\n",
       "      <th>0</th>\n",
       "      <td>E06000031</td>\n",
       "      <td>34176</td>\n",
       "      <td>53216</td>\n",
       "      <td>22288.0</td>\n",
       "      <td>29245.0</td>\n",
       "    </tr>\n",
       "    <tr>\n",
       "      <th>1</th>\n",
       "      <td>E06000032</td>\n",
       "      <td>36708</td>\n",
       "      <td>47773</td>\n",
       "      <td>22813.0</td>\n",
       "      <td>34814.0</td>\n",
       "    </tr>\n",
       "    <tr>\n",
       "      <th>2</th>\n",
       "      <td>E06000033</td>\n",
       "      <td>39348</td>\n",
       "      <td>54522</td>\n",
       "      <td>23075.0</td>\n",
       "      <td>30691.0</td>\n",
       "    </tr>\n",
       "    <tr>\n",
       "      <th>3</th>\n",
       "      <td>E06000034</td>\n",
       "      <td>22151</td>\n",
       "      <td>57765</td>\n",
       "      <td>22396.0</td>\n",
       "      <td>21519.0</td>\n",
       "    </tr>\n",
       "    <tr>\n",
       "      <th>4</th>\n",
       "      <td>E06000055</td>\n",
       "      <td>41497</td>\n",
       "      <td>44569</td>\n",
       "      <td>17313.0</td>\n",
       "      <td>35417.0</td>\n",
       "    </tr>\n",
       "  </tbody>\n",
       "</table>\n",
       "</div>"
      ],
      "text/plain": [
       "   Area_Code  Remain  Leave  Low_edu  High_edu\n",
       "0  E06000031   34176  53216  22288.0   29245.0\n",
       "1  E06000032   36708  47773  22813.0   34814.0\n",
       "2  E06000033   39348  54522  23075.0   30691.0\n",
       "3  E06000034   22151  57765  22396.0   21519.0\n",
       "4  E06000055   41497  44569  17313.0   35417.0"
      ]
     },
     "execution_count": 62,
     "metadata": {},
     "output_type": "execute_result"
    }
   ],
   "source": [
    "res.head()"
   ]
  },
  {
   "cell_type": "code",
   "execution_count": 63,
   "metadata": {
    "collapsed": false
   },
   "outputs": [
    {
     "data": {
      "image/png": "[encoded data removed]",
      "text/plain": [
       "<matplotlib.figure.Figure at 0x11905fe10>"
      ]
     },
     "metadata": {},
     "output_type": "display_data"
    }
   ],
   "source": [
    "fig = plt.figure(figsize=(6, 6))\n",
    "ax = fig.add_subplot(1,1,1) # one row, one column, first plot\n",
    "\n",
    "# could also take res.Remain ...\n",
    "ax.scatter(res.High_edu, res.Leave, s=20, c='r', marker=\"o\", label='higher education')\n",
    "ax.scatter(res.Low_edu, res.Leave, s=20, c='b', marker=\"s\", label='lower education')\n",
    "\n",
    "plt.legend(loc='upper left');\n",
    "plt.xlabel('Education')\n",
    "plt.ylabel('Number of leave votes')\n",
    "plt.show()\n",
    "\n",
    "#fig.savefig(\"brexit_vote_with_census_table.png\")"
   ]
  },
  {
   "cell_type": "code",
   "execution_count": 70,
   "metadata": {
    "collapsed": false
   },
   "outputs": [
    {
     "data": {
      "image/png": "[encoded data removed]",
      "text/plain": [
       "<matplotlib.figure.Figure at 0x11831a390>"
      ]
     },
     "metadata": {},
     "output_type": "display_data"
    }
   ],
   "source": [
    "fig = plt.figure(figsize=(6, 6))\n",
    "ax = fig.add_subplot(1,1,1) # one row, one column, first plot\n",
    "\n",
    "# could also take res.Remain ...\n",
    "ax.scatter(res.High_edu, res.Low_edu, s=res.Leave/1000, c='r', marker=\"o\", label='education')\n",
    "#ax.scatter(res.Low_edu, res.Leave, s=20, c='b', marker=\"s\", label='lower education')\n",
    "\n",
    "plt.legend(loc='upper left');\n",
    "plt.xlabel('high edu')\n",
    "plt.ylabel('low edu')\n",
    "plt.show()\n",
    "\n",
    "#fig.savefig(\"brexit_vote_with_census_table.png\")"
   ]
  },
  {
   "cell_type": "code",
   "execution_count": 35,
   "metadata": {
    "collapsed": false
   },
   "outputs": [],
   "source": [
    "age = pd.read_excel(io=census_data[\"age\"], sheetname=\"KS102EW_Numbers\", header=10, parse_cols=(\"A,F:U\"), skiprows=[11,12,13])\n",
    "age.dropna(how='all', inplace=True)\n",
    "age.rename(index=str, inplace=True, columns={\"Area code\": \"Area_Code\", })\n",
    "age[\"younger\"] = age.iloc[:, 1:11].sum(axis=1) # 0-44 years\n",
    "age[\"older\"] = age.iloc[:, 11:17].sum(axis=1) # 45->90 years"
   ]
  },
  {
   "cell_type": "code",
   "execution_count": 36,
   "metadata": {
    "collapsed": false
   },
   "outputs": [
    {
     "data": {
      "text/plain": [
       "396"
      ]
     },
     "execution_count": 36,
     "metadata": {},
     "output_type": "execute_result"
    }
   ],
   "source": [
    "len(age)"
   ]
  },
  {
   "cell_type": "code",
   "execution_count": 37,
   "metadata": {
    "collapsed": false
   },
   "outputs": [
    {
     "data": {
      "text/html": [
       "<div>\n",
       "<table border=\"1\" class=\"dataframe\">\n",
       "  <thead>\n",
       "    <tr style=\"text-align: right;\">\n",
       "      <th></th>\n",
       "      <th>Area_Code</th>\n",
       "      <th>younger</th>\n",
       "      <th>older</th>\n",
       "    </tr>\n",
       "  </thead>\n",
       "  <tbody>\n",
       "    <tr>\n",
       "      <th>0</th>\n",
       "      <td>K04000001</td>\n",
       "      <td>32589542.0</td>\n",
       "      <td>23486370.0</td>\n",
       "    </tr>\n",
       "    <tr>\n",
       "      <th>2</th>\n",
       "      <td>E92000001</td>\n",
       "      <td>30902748.0</td>\n",
       "      <td>22109708.0</td>\n",
       "    </tr>\n",
       "  </tbody>\n",
       "</table>\n",
       "</div>"
      ],
      "text/plain": [
       "   Area_Code     younger       older\n",
       "0  K04000001  32589542.0  23486370.0\n",
       "2  E92000001  30902748.0  22109708.0"
      ]
     },
     "execution_count": 37,
     "metadata": {},
     "output_type": "execute_result"
    }
   ],
   "source": [
    "age_y_o = age[[\"Area_Code\", \"younger\", \"older\"]]\n",
    "age_y_o.head(2)"
   ]
  },
  {
   "cell_type": "code",
   "execution_count": 38,
   "metadata": {
    "collapsed": true
   },
   "outputs": [],
   "source": [
    "res = pd.merge(df, age_y_o, on='Area_Code')"
   ]
  },
  {
   "cell_type": "code",
   "execution_count": 39,
   "metadata": {
    "collapsed": false
   },
   "outputs": [
    {
     "data": {
      "text/plain": [
       "342"
      ]
     },
     "execution_count": 39,
     "metadata": {},
     "output_type": "execute_result"
    }
   ],
   "source": [
    "len(res)"
   ]
  },
  {
   "cell_type": "code",
   "execution_count": 40,
   "metadata": {
    "collapsed": false
   },
   "outputs": [
    {
     "data": {
      "text/html": [
       "<div>\n",
       "<table border=\"1\" class=\"dataframe\">\n",
       "  <thead>\n",
       "    <tr style=\"text-align: right;\">\n",
       "      <th></th>\n",
       "      <th>Area_Code</th>\n",
       "      <th>Remain</th>\n",
       "      <th>Leave</th>\n",
       "      <th>younger</th>\n",
       "      <th>older</th>\n",
       "    </tr>\n",
       "  </thead>\n",
       "  <tbody>\n",
       "    <tr>\n",
       "      <th>0</th>\n",
       "      <td>E06000031</td>\n",
       "      <td>34176</td>\n",
       "      <td>53216</td>\n",
       "      <td>116038.0</td>\n",
       "      <td>67593.0</td>\n",
       "    </tr>\n",
       "    <tr>\n",
       "      <th>1</th>\n",
       "      <td>E06000032</td>\n",
       "      <td>36708</td>\n",
       "      <td>47773</td>\n",
       "      <td>136944.0</td>\n",
       "      <td>66257.0</td>\n",
       "    </tr>\n",
       "    <tr>\n",
       "      <th>2</th>\n",
       "      <td>E06000033</td>\n",
       "      <td>39348</td>\n",
       "      <td>54522</td>\n",
       "      <td>99132.0</td>\n",
       "      <td>74526.0</td>\n",
       "    </tr>\n",
       "    <tr>\n",
       "      <th>3</th>\n",
       "      <td>E06000034</td>\n",
       "      <td>22151</td>\n",
       "      <td>57765</td>\n",
       "      <td>99570.0</td>\n",
       "      <td>58135.0</td>\n",
       "    </tr>\n",
       "    <tr>\n",
       "      <th>4</th>\n",
       "      <td>E06000055</td>\n",
       "      <td>41497</td>\n",
       "      <td>44569</td>\n",
       "      <td>92492.0</td>\n",
       "      <td>64987.0</td>\n",
       "    </tr>\n",
       "  </tbody>\n",
       "</table>\n",
       "</div>"
      ],
      "text/plain": [
       "   Area_Code  Remain  Leave   younger    older\n",
       "0  E06000031   34176  53216  116038.0  67593.0\n",
       "1  E06000032   36708  47773  136944.0  66257.0\n",
       "2  E06000033   39348  54522   99132.0  74526.0\n",
       "3  E06000034   22151  57765   99570.0  58135.0\n",
       "4  E06000055   41497  44569   92492.0  64987.0"
      ]
     },
     "execution_count": 40,
     "metadata": {},
     "output_type": "execute_result"
    }
   ],
   "source": [
    "res.head()"
   ]
  },
  {
   "cell_type": "code",
   "execution_count": 44,
   "metadata": {
    "collapsed": false
   },
   "outputs": [
    {
     "data": {
      "image/png": "[encoded data removed]",
      "text/plain": [
       "<matplotlib.figure.Figure at 0x118405908>"
      ]
     },
     "metadata": {},
     "output_type": "display_data"
    }
   ],
   "source": [
    "fig = plt.figure(figsize=(6, 6))\n",
    "ax = fig.add_subplot(1,1,1) # one row, one column, first plot\n",
    "\n",
    "# could also take res.Remain ...\n",
    "ax.scatter(res.younger, res.Leave, s=20, c='r', marker=\"o\", label='Younger age')\n",
    "ax.scatter(res.older, res.Leave, s=20, c='b', marker=\"s\", label='Higher age')\n",
    "\n",
    "plt.legend(loc='upper left');\n",
    "plt.xlabel('Age')\n",
    "plt.ylabel('Number of leave votes')\n",
    "plt.show()"
   ]
  },
  {
   "cell_type": "code",
   "execution_count": null,
   "metadata": {
    "collapsed": true
   },
   "outputs": [],
   "source": []
  }
 ],
 "metadata": {
  "kernelspec": {
   "display_name": "Python 3",
   "language": "python",
   "name": "python3"
  },
  "language_info": {
   "codemirror_mode": {
    "name": "ipython",
    "version": 3
   },
   "file_extension": ".py",
   "mimetype": "text/x-python",
   "name": "python",
   "nbconvert_exporter": "python",
   "pygments_lexer": "ipython3",
   "version": "3.5.1"
  }
 },
 "nbformat": 4,
 "nbformat_minor": 0
}
