{
 "cells": [
  {
   "cell_type": "code",
   "execution_count": 1,
   "metadata": {
    "collapsed": true
   },
   "outputs": [],
   "source": [
    "import pandas as pd"
   ]
  },
  {
   "cell_type": "markdown",
   "metadata": {},
   "source": [
    "## Trabajo de preparación\n",
    "\n",
    "Importando los datos CSV de [electoralcommission.org.uk](http://www.electoralcommission.org.uk/find-information-by-subject/elections-and-referendums/upcoming-elections-and-referendums/eu-referendum/electorate-and-count-information)\n",
    "\n",
    "Por cierto este es mi primer Jupyter notebook, que herramienta más cojonuda!"
   ]
  },
  {
   "cell_type": "code",
   "execution_count": 2,
   "metadata": {
    "collapsed": true
   },
   "outputs": [],
   "source": [
    "df = pd.read_csv(\"http://www.electoralcommission.org.uk/__data/assets/file/0014/212135/EU-referendum-result-data.csv\")"
   ]
  },
  {
   "cell_type": "markdown",
   "metadata": {},
   "source": [
    "## Checkeo de unos numeros\n",
    "\n",
    "Vamos a ver si llegamos a los datos [del resumen de Financial Times](https://ig.ft.com/sites/elections/2016/uk/eu-referendum/index.html) ..."
   ]
  },
  {
   "cell_type": "markdown",
   "metadata": {},
   "source": [
    "Dice por ejemplo: \"The leave camp has won the day by 1,269,501 votes\", corresponde con mis datos?"
   ]
  },
  {
   "cell_type": "code",
   "execution_count": 3,
   "metadata": {
    "collapsed": false
   },
   "outputs": [
    {
     "name": "stdout",
     "output_type": "stream",
     "text": [
      "17410742 - 16141241 = 1269501\n"
     ]
    }
   ],
   "source": [
    "leave = df[\"Leave\"].sum() \n",
    "remain = df[\"Remain\"].sum()\n",
    "print(\"{} - {} = {}\".format(leave, remain, (leave - remain)))"
   ]
  },
  {
   "cell_type": "markdown",
   "metadata": {},
   "source": [
    "Leave ganó: 51,9% contra Remain 48,1%"
   ]
  },
  {
   "cell_type": "code",
   "execution_count": 4,
   "metadata": {
    "collapsed": false
   },
   "outputs": [
    {
     "data": {
      "text/plain": [
       "51.891841981441154"
      ]
     },
     "execution_count": 4,
     "metadata": {},
     "output_type": "execute_result"
    }
   ],
   "source": [
    "leave / (remain + leave) *100"
   ]
  },
  {
   "cell_type": "markdown",
   "metadata": {},
   "source": [
    "Algún checkeo más: [electoralcommission.org.uk](http://www.electoralcommission.org.uk/find-information-by-subject/elections-and-referendums/upcoming-elections-and-referendums/eu-referendum/electorate-and-count-information) - donde saqué el CSV - habla de: \n",
    "\n",
    "- Total Electorate: 46,500,001\n",
    "- Turnout: 72.2%\n",
    "- Rejected Ballots: 25,359"
   ]
  },
  {
   "cell_type": "code",
   "execution_count": 5,
   "metadata": {
    "collapsed": false
   },
   "outputs": [
    {
     "data": {
      "text/plain": [
       "46500001"
      ]
     },
     "execution_count": 5,
     "metadata": {},
     "output_type": "execute_result"
    }
   ],
   "source": [
    "electorate = df['Electorate'].sum(); electorate"
   ]
  },
  {
   "cell_type": "code",
   "execution_count": 6,
   "metadata": {
    "collapsed": false
   },
   "outputs": [
    {
     "data": {
      "text/plain": [
       "72.1548005988215"
      ]
     },
     "execution_count": 6,
     "metadata": {},
     "output_type": "execute_result"
    }
   ],
   "source": [
    "turnout = (leave + remain) / electorate * 100; turnout"
   ]
  },
  {
   "cell_type": "code",
   "execution_count": 7,
   "metadata": {
    "collapsed": false
   },
   "outputs": [
    {
     "data": {
      "text/plain": [
       "25359"
      ]
     },
     "execution_count": 7,
     "metadata": {},
     "output_type": "execute_result"
    }
   ],
   "source": [
    "rejected = df.Rejected_Ballots.sum(); rejected"
   ]
  },
  {
   "cell_type": "markdown",
   "metadata": {},
   "source": [
    "## Areas locales más a favor / en contra de salir\n",
    "\n",
    "Vale, ahora la parte más divertida, el analysis con plots de los areas locales y después las regiones ..."
   ]
  },
  {
   "cell_type": "code",
   "execution_count": 8,
   "metadata": {
    "collapsed": true
   },
   "outputs": [],
   "source": [
    "%matplotlib inline"
   ]
  },
  {
   "cell_type": "markdown",
   "metadata": {},
   "source": [
    "Como voy a hacer un plot de porcentajes, añadimos los porcentajes de leave / remain al DataFrame.\n",
    "\n",
    "Cierto esto era mucho prueba-y-error, estáis viendo la versión limpia del notebook ;)\n",
    "\n",
    "Vamos a ver el area más a favor de salir de la Unión:"
   ]
  },
  {
   "cell_type": "code",
   "execution_count": 9,
   "metadata": {
    "collapsed": false
   },
   "outputs": [],
   "source": [
    "dfa = df.groupby(\"Area\").sum()\n",
    "dfa.head()\n",
    "dfa[\"Perc_leave\"] = dfa[\"Leave\"] / (dfa[\"Remain\"] + dfa[\"Leave\"]) * 100\n",
    "dfa[\"Perc_remain\"] = dfa[\"Remain\"] / (dfa[\"Remain\"] + dfa[\"Leave\"]) * 100"
   ]
  },
  {
   "cell_type": "code",
   "execution_count": 10,
   "metadata": {
    "collapsed": false
   },
   "outputs": [
    {
     "data": {
      "text/html": [
       "<div>\n",
       "<table border=\"1\" class=\"dataframe\">\n",
       "  <thead>\n",
       "    <tr style=\"text-align: right;\">\n",
       "      <th></th>\n",
       "      <th>id</th>\n",
       "      <th>Electorate</th>\n",
       "      <th>ExpectedBallots</th>\n",
       "      <th>VerifiedBallotPapers</th>\n",
       "      <th>Pct_Turnout</th>\n",
       "      <th>Votes_Cast</th>\n",
       "      <th>Valid_Votes</th>\n",
       "      <th>Remain</th>\n",
       "      <th>Leave</th>\n",
       "      <th>Rejected_Ballots</th>\n",
       "      <th>No_official_mark</th>\n",
       "      <th>Voting_for_both_answers</th>\n",
       "      <th>Writing_or_mark</th>\n",
       "      <th>Unmarked_or_void</th>\n",
       "      <th>Pct_Remain</th>\n",
       "      <th>Pct_Leave</th>\n",
       "      <th>Pct_Rejected</th>\n",
       "      <th>Perc_leave</th>\n",
       "      <th>Perc_remain</th>\n",
       "    </tr>\n",
       "    <tr>\n",
       "      <th>Area</th>\n",
       "      <th></th>\n",
       "      <th></th>\n",
       "      <th></th>\n",
       "      <th></th>\n",
       "      <th></th>\n",
       "      <th></th>\n",
       "      <th></th>\n",
       "      <th></th>\n",
       "      <th></th>\n",
       "      <th></th>\n",
       "      <th></th>\n",
       "      <th></th>\n",
       "      <th></th>\n",
       "      <th></th>\n",
       "      <th></th>\n",
       "      <th></th>\n",
       "      <th></th>\n",
       "      <th></th>\n",
       "      <th></th>\n",
       "    </tr>\n",
       "  </thead>\n",
       "  <tbody>\n",
       "    <tr>\n",
       "      <th>Aberdeen City</th>\n",
       "      <td>148</td>\n",
       "      <td>154266</td>\n",
       "      <td>104809</td>\n",
       "      <td>104809</td>\n",
       "      <td>67.94</td>\n",
       "      <td>104809</td>\n",
       "      <td>104714</td>\n",
       "      <td>63985</td>\n",
       "      <td>40729</td>\n",
       "      <td>95</td>\n",
       "      <td>0</td>\n",
       "      <td>34</td>\n",
       "      <td>2</td>\n",
       "      <td>59</td>\n",
       "      <td>61.10</td>\n",
       "      <td>38.90</td>\n",
       "      <td>0.09</td>\n",
       "      <td>38.895468</td>\n",
       "      <td>61.104532</td>\n",
       "    </tr>\n",
       "    <tr>\n",
       "      <th>Aberdeenshire</th>\n",
       "      <td>149</td>\n",
       "      <td>196809</td>\n",
       "      <td>139014</td>\n",
       "      <td>139014</td>\n",
       "      <td>70.63</td>\n",
       "      <td>139014</td>\n",
       "      <td>138961</td>\n",
       "      <td>76445</td>\n",
       "      <td>62516</td>\n",
       "      <td>53</td>\n",
       "      <td>0</td>\n",
       "      <td>19</td>\n",
       "      <td>1</td>\n",
       "      <td>33</td>\n",
       "      <td>55.01</td>\n",
       "      <td>44.99</td>\n",
       "      <td>0.04</td>\n",
       "      <td>44.988162</td>\n",
       "      <td>55.011838</td>\n",
       "    </tr>\n",
       "    <tr>\n",
       "      <th>Adur</th>\n",
       "      <td>368</td>\n",
       "      <td>48755</td>\n",
       "      <td>37253</td>\n",
       "      <td>37251</td>\n",
       "      <td>76.40</td>\n",
       "      <td>37251</td>\n",
       "      <td>37229</td>\n",
       "      <td>16914</td>\n",
       "      <td>20315</td>\n",
       "      <td>22</td>\n",
       "      <td>0</td>\n",
       "      <td>8</td>\n",
       "      <td>0</td>\n",
       "      <td>14</td>\n",
       "      <td>45.43</td>\n",
       "      <td>54.57</td>\n",
       "      <td>0.06</td>\n",
       "      <td>54.567676</td>\n",
       "      <td>45.432324</td>\n",
       "    </tr>\n",
       "  </tbody>\n",
       "</table>\n",
       "</div>"
      ],
      "text/plain": [
       "                id  Electorate  ExpectedBallots  VerifiedBallotPapers  \\\n",
       "Area                                                                    \n",
       "Aberdeen City  148      154266           104809                104809   \n",
       "Aberdeenshire  149      196809           139014                139014   \n",
       "Adur           368       48755            37253                 37251   \n",
       "\n",
       "               Pct_Turnout  Votes_Cast  Valid_Votes  Remain  Leave  \\\n",
       "Area                                                                 \n",
       "Aberdeen City        67.94      104809       104714   63985  40729   \n",
       "Aberdeenshire        70.63      139014       138961   76445  62516   \n",
       "Adur                 76.40       37251        37229   16914  20315   \n",
       "\n",
       "               Rejected_Ballots  No_official_mark  Voting_for_both_answers  \\\n",
       "Area                                                                         \n",
       "Aberdeen City                95                 0                       34   \n",
       "Aberdeenshire                53                 0                       19   \n",
       "Adur                         22                 0                        8   \n",
       "\n",
       "               Writing_or_mark  Unmarked_or_void  Pct_Remain  Pct_Leave  \\\n",
       "Area                                                                      \n",
       "Aberdeen City                2                59       61.10      38.90   \n",
       "Aberdeenshire                1                33       55.01      44.99   \n",
       "Adur                         0                14       45.43      54.57   \n",
       "\n",
       "               Pct_Rejected  Perc_leave  Perc_remain  \n",
       "Area                                                  \n",
       "Aberdeen City          0.09   38.895468    61.104532  \n",
       "Aberdeenshire          0.04   44.988162    55.011838  \n",
       "Adur                   0.06   54.567676    45.432324  "
      ]
     },
     "execution_count": 10,
     "metadata": {},
     "output_type": "execute_result"
    }
   ],
   "source": [
    "dfa.head(3)"
   ]
  },
  {
   "cell_type": "code",
   "execution_count": 11,
   "metadata": {
    "collapsed": false
   },
   "outputs": [
    {
     "data": {
      "text/html": [
       "<div>\n",
       "<table border=\"1\" class=\"dataframe\">\n",
       "  <thead>\n",
       "    <tr style=\"text-align: right;\">\n",
       "      <th></th>\n",
       "      <th>Perc_leave</th>\n",
       "      <th>Perc_remain</th>\n",
       "    </tr>\n",
       "    <tr>\n",
       "      <th>Area</th>\n",
       "      <th></th>\n",
       "      <th></th>\n",
       "    </tr>\n",
       "  </thead>\n",
       "  <tbody>\n",
       "    <tr>\n",
       "      <th>Boston</th>\n",
       "      <td>75.562426</td>\n",
       "      <td>24.437574</td>\n",
       "    </tr>\n",
       "    <tr>\n",
       "      <th>South Holland</th>\n",
       "      <td>73.586278</td>\n",
       "      <td>26.413722</td>\n",
       "    </tr>\n",
       "    <tr>\n",
       "      <th>Castle Point</th>\n",
       "      <td>72.699392</td>\n",
       "      <td>27.300608</td>\n",
       "    </tr>\n",
       "    <tr>\n",
       "      <th>Thurrock</th>\n",
       "      <td>72.282146</td>\n",
       "      <td>27.717854</td>\n",
       "    </tr>\n",
       "    <tr>\n",
       "      <th>Great Yarmouth</th>\n",
       "      <td>71.504947</td>\n",
       "      <td>28.495053</td>\n",
       "    </tr>\n",
       "  </tbody>\n",
       "</table>\n",
       "</div>"
      ],
      "text/plain": [
       "                Perc_leave  Perc_remain\n",
       "Area                                   \n",
       "Boston           75.562426    24.437574\n",
       "South Holland    73.586278    26.413722\n",
       "Castle Point     72.699392    27.300608\n",
       "Thurrock         72.282146    27.717854\n",
       "Great Yarmouth   71.504947    28.495053"
      ]
     },
     "execution_count": 11,
     "metadata": {},
     "output_type": "execute_result"
    }
   ],
   "source": [
    "top5_leave = dfa[[\"Perc_leave\", \"Perc_remain\"]].sort_values(by=\"Perc_leave\", ascending=False)[0:5]\n",
    "top5_leave.head()"
   ]
  },
  {
   "cell_type": "code",
   "execution_count": 12,
   "metadata": {
    "collapsed": false
   },
   "outputs": [
    {
     "data": {
      "text/plain": [
       "<matplotlib.legend.Legend at 0x11184e940>"
      ]
     },
     "execution_count": 12,
     "metadata": {},
     "output_type": "execute_result"
    },
    {
     "data": {
      "image/png": "[encoded data removed]",
      "text/plain": [
       "<matplotlib.figure.Figure at 0x114794978>"
      ]
     },
     "metadata": {},
     "output_type": "display_data"
    }
   ],
   "source": [
    "plt1 = top5_leave.plot(kind=\"bar\")\n",
    "plt1.legend(loc='center left', bbox_to_anchor=(1, 0.5))"
   ]
  },
  {
   "cell_type": "markdown",
   "metadata": {},
   "source": [
    "Boston está en el extremo. A ver el otro extremo: quién está más a favor de quedar? Simplemente variamos unos parametros:"
   ]
  },
  {
   "cell_type": "code",
   "execution_count": 13,
   "metadata": {
    "collapsed": false
   },
   "outputs": [
    {
     "data": {
      "text/html": [
       "<div>\n",
       "<table border=\"1\" class=\"dataframe\">\n",
       "  <thead>\n",
       "    <tr style=\"text-align: right;\">\n",
       "      <th></th>\n",
       "      <th>Perc_leave</th>\n",
       "      <th>Perc_remain</th>\n",
       "    </tr>\n",
       "    <tr>\n",
       "      <th>Area</th>\n",
       "      <th></th>\n",
       "      <th></th>\n",
       "    </tr>\n",
       "  </thead>\n",
       "  <tbody>\n",
       "    <tr>\n",
       "      <th>City of London</th>\n",
       "      <td>24.710161</td>\n",
       "      <td>75.289839</td>\n",
       "    </tr>\n",
       "    <tr>\n",
       "      <th>Haringey</th>\n",
       "      <td>24.426998</td>\n",
       "      <td>75.573002</td>\n",
       "    </tr>\n",
       "    <tr>\n",
       "      <th>Hackney</th>\n",
       "      <td>21.519583</td>\n",
       "      <td>78.480417</td>\n",
       "    </tr>\n",
       "    <tr>\n",
       "      <th>Lambeth</th>\n",
       "      <td>21.377639</td>\n",
       "      <td>78.622361</td>\n",
       "    </tr>\n",
       "    <tr>\n",
       "      <th>Gibraltar</th>\n",
       "      <td>4.085381</td>\n",
       "      <td>95.914619</td>\n",
       "    </tr>\n",
       "  </tbody>\n",
       "</table>\n",
       "</div>"
      ],
      "text/plain": [
       "                Perc_leave  Perc_remain\n",
       "Area                                   \n",
       "City of London   24.710161    75.289839\n",
       "Haringey         24.426998    75.573002\n",
       "Hackney          21.519583    78.480417\n",
       "Lambeth          21.377639    78.622361\n",
       "Gibraltar         4.085381    95.914619"
      ]
     },
     "execution_count": 13,
     "metadata": {},
     "output_type": "execute_result"
    }
   ],
   "source": [
    "top5_remain = dfa[[\"Perc_leave\", \"Perc_remain\"]].sort_values(by=\"Perc_leave\", ascending=False)[-5:]\n",
    "top5_remain.head()"
   ]
  },
  {
   "cell_type": "code",
   "execution_count": 14,
   "metadata": {
    "collapsed": false
   },
   "outputs": [
    {
     "data": {
      "text/plain": [
       "<matplotlib.legend.Legend at 0x11478ccf8>"
      ]
     },
     "execution_count": 14,
     "metadata": {},
     "output_type": "execute_result"
    },
    {
     "data": {
      "image/png": "[encoded data removed]",
      "text/plain": [
       "<matplotlib.figure.Figure at 0x116c60588>"
      ]
     },
     "metadata": {},
     "output_type": "display_data"
    }
   ],
   "source": [
    "plt2 = top5_remain.plot(kind=\"bar\")\n",
    "plt2.legend(loc='center left', bbox_to_anchor=(1, 0.5))"
   ]
  },
  {
   "cell_type": "markdown",
   "metadata": {},
   "source": [
    "Y vemos un pico de Gibraltar!"
   ]
  },
  {
   "cell_type": "markdown",
   "metadata": {},
   "source": [
    "## Regiones\n",
    "\n",
    "Ahora a ver qué regiones son más a favor / en contra:"
   ]
  },
  {
   "cell_type": "code",
   "execution_count": 15,
   "metadata": {
    "collapsed": true
   },
   "outputs": [],
   "source": [
    "dfr = df.groupby(\"Region\").sum()"
   ]
  },
  {
   "cell_type": "code",
   "execution_count": 16,
   "metadata": {
    "collapsed": true
   },
   "outputs": [],
   "source": [
    "# ok proxima vez deberia definir un metodo quiza\n",
    "dfr[\"Perc_leave\"] = dfr[\"Leave\"] / (dfr[\"Remain\"] + dfr[\"Leave\"]) * 100\n",
    "dfr[\"Perc_remain\"] = dfr[\"Remain\"] / (dfr[\"Remain\"] + dfr[\"Leave\"]) * 100"
   ]
  },
  {
   "cell_type": "code",
   "execution_count": 17,
   "metadata": {
    "collapsed": false
   },
   "outputs": [
    {
     "data": {
      "text/plain": [
       "<matplotlib.axes._subplots.AxesSubplot at 0x1173327f0>"
      ]
     },
     "execution_count": 17,
     "metadata": {},
     "output_type": "execute_result"
    },
    {
     "data": {
      "image/png": "[encoded data removed]",
      "text/plain": [
       "<matplotlib.figure.Figure at 0x117349ac8>"
      ]
     },
     "metadata": {},
     "output_type": "display_data"
    }
   ],
   "source": [
    "dfr[[\"Perc_leave\", \"Perc_remain\"]].sort_values(by=\"Perc_leave\", ascending=False).plot(kind=\"bar\")"
   ]
  },
  {
   "cell_type": "markdown",
   "metadata": {},
   "source": [
    "Vemos que Escocia, Londres y Irlanda quieren quedarse, Los Midlands quieren salir. \n",
    "\n",
    "Aquí me hubiera gustado tener más datos para hacer un análisis mas profundo (aprendiendo mas Pandas). \n",
    "\n",
    "En [la economía de Inglaterra por región en Wikipedia](https://en.wikipedia.org/wiki/Economy_of_the_United_Kingdom?oldformat=true#Economy_by_region) se ve por ejemplo una relación clara entre el GVA de las regiones y su voto (más prosperidad mas a favor de quedarse en la unión). \n",
    "\n",
    "También me hubiera gustado ver la influencia de edad y educación, [como pudo sacar FT Data](http://blogs.ft.com/ftdata/2016/06/24/brexit-demographic-divide-eu-referendum-results/) pero no tenía más datos."
   ]
  },
  {
   "cell_type": "markdown",
   "metadata": {},
   "source": [
    "<table class=\"wikitable\">\n",
    "<tr>\n",
    "<th>Rank</th>\n",
    "<th>Place</th>\n",
    "<th>GVA per capita, 2013<sup id=\"cite_ref-GVA_153-1\" class=\"reference\"></sup></th>\n",
    "</tr>\n",
    "<tr>\n",
    "<td align=\"right\">1</td>\n",
    "<td><a href=\"/wiki/Greater_London\" title=\"Greater London\">Greater London</a></td>\n",
    "<td>£40,215</td>\n",
    "</tr>\n",
    "<tr>\n",
    "<td align=\"right\">2</td>\n",
    "<td><a href=\"/wiki/South_East_England\" title=\"South East England\">South East England</a></td>\n",
    "<td>£25,843</td>\n",
    "</tr>\n",
    "<tr>\n",
    "<td align=\"right\">3</td>\n",
    "<td><a href=\"/wiki/East_of_England\" title=\"East of England\">East of England</a></td>\n",
    "<td>£21,897</td>\n",
    "</tr>\n",
    "<tr>\n",
    "<td align=\"right\">4</td>\n",
    "<td><a href=\"/wiki/South_West_England\" title=\"South West England\">South West England</a></td>\n",
    "<td>£21,163</td>\n",
    "</tr>\n",
    "<tr>\n",
    "<td align=\"right\">5</td>\n",
    "<td><a href=\"/wiki/North_West_England\" title=\"North West England\">North West England</a></td>\n",
    "<td>£19,937</td>\n",
    "</tr>\n",
    "<tr>\n",
    "<td align=\"right\">6</td>\n",
    "<td><a href=\"/wiki/West_Midlands_(region)\" title=\"West Midlands (region)\">West Midlands</a></td>\n",
    "<td>£19,428</td>\n",
    "</tr>\n",
    "<tr>\n",
    "<td align=\"right\">7</td>\n",
    "<td><a href=\"/wiki/East_Midlands\" title=\"East Midlands\">East Midlands</a></td>\n",
    "<td>£19,317</td>\n",
    "</tr>\n",
    "<tr>\n",
    "<td align=\"right\">8</td>\n",
    "<td><a href=\"/wiki/Yorkshire_and_the_Humber\" title=\"Yorkshire and the Humber\">Yorkshire and the Humber</a></td>\n",
    "<td>£19,053</td>\n",
    "</tr>\n",
    "<tr>\n",
    "<td align=\"right\">9</td>\n",
    "<td><a href=\"/wiki/North_East_England\" title=\"North East England\">North East England</a></td>\n",
    "<td>£17,381</td>\n",
    "</tr>\n",
    "</table>"
   ]
  },
  {
   "cell_type": "markdown",
   "metadata": {},
   "source": [
    "Interesante! \n",
    "\n",
    "Y aquí llegamos a final, aprendí lo suficiente Pandas \"para ser peligroso\", conseguí representar [los resultados de FT](https://ig.ft.com/sites/elections/2016/uk/eu-referendum/index.html) con Pandas en este Notebook."
   ]
  }
 ],
 "metadata": {
  "kernelspec": {
   "display_name": "Python 3",
   "language": "python",
   "name": "python3"
  },
  "language_info": {
   "codemirror_mode": {
    "name": "ipython",
    "version": 3
   },
   "file_extension": ".py",
   "mimetype": "text/x-python",
   "name": "python",
   "nbconvert_exporter": "python",
   "pygments_lexer": "ipython3",
   "version": "3.5.1"
  }
 },
 "nbformat": 4,
 "nbformat_minor": 0
}
